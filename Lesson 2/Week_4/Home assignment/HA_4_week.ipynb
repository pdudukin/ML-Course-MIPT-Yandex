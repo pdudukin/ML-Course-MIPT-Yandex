{
 "cells": [
  {
   "cell_type": "code",
   "execution_count": 66,
   "metadata": {},
   "outputs": [],
   "source": [
    "from sklearn import datasets, cross_validation, tree, ensemble\n",
    "import numpy as np"
   ]
  },
  {
   "cell_type": "code",
   "execution_count": 67,
   "metadata": {
    "collapsed": true
   },
   "outputs": [],
   "source": [
    "def write_answer(ans,i):\n",
    "    with open(\"answer_\"+str(i)+\".txt\", \"w\") as fout:\n",
    "        fout.write(str(ans))"
   ]
  },
  {
   "cell_type": "code",
   "execution_count": 68,
   "metadata": {},
   "outputs": [],
   "source": [
    "digits = datasets.load_digits()\n",
    "data = digits.data\n",
    "target = digits.target"
   ]
  },
  {
   "cell_type": "code",
   "execution_count": 69,
   "metadata": {},
   "outputs": [
    {
     "name": "stdout",
     "output_type": "stream",
     "text": [
      "(array([[  0.,   0.,   5., ...,   0.,   0.,   0.],\n",
      "       [  0.,   0.,   0., ...,  10.,   0.,   0.],\n",
      "       [  0.,   0.,   0., ...,  16.,   9.,   0.],\n",
      "       ..., \n",
      "       [  0.,   0.,   1., ...,   6.,   0.,   0.],\n",
      "       [  0.,   0.,   2., ...,  12.,   0.,   0.],\n",
      "       [  0.,   0.,  10., ...,  12.,   1.,   0.]]), array([0, 1, 2, ..., 8, 9, 8]))\n",
      "(1797L, 64L)\n"
     ]
    }
   ],
   "source": [
    "print(data,target)\n",
    "print(data.shape)"
   ]
  },
  {
   "cell_type": "code",
   "execution_count": 70,
   "metadata": {},
   "outputs": [
    {
     "name": "stdout",
     "output_type": "stream",
     "text": [
      "0.831844698656\n"
     ]
    }
   ],
   "source": [
    "# --------------------------------------1--------------------------------------\n",
    "DTC = tree.DecisionTreeClassifier()\n",
    "Ans1 = cross_validation.cross_val_score(DTC, data, target, cv=10).mean()\n",
    "print(Ans1)\n",
    "write_answer(Ans1,1)"
   ]
  },
  {
   "cell_type": "code",
   "execution_count": 71,
   "metadata": {},
   "outputs": [
    {
     "name": "stdout",
     "output_type": "stream",
     "text": [
      "0.926038335604\n"
     ]
    }
   ],
   "source": [
    "# --------------------------------------2--------------------------------------\n",
    "bagging = ensemble.BaggingClassifier(DTC, n_estimators = 100)\n",
    "Ans2 = cross_validation.cross_val_score(bagging, data, target, cv=10).mean()\n",
    "print(Ans2)\n",
    "write_answer(Ans2,2)"
   ]
  },
  {
   "cell_type": "code",
   "execution_count": 72,
   "metadata": {},
   "outputs": [
    {
     "name": "stdout",
     "output_type": "stream",
     "text": [
      "0.93052269678\n"
     ]
    }
   ],
   "source": [
    "# --------------------------------------3--------------------------------------\n",
    "DTC3 = tree.DecisionTreeClassifier()\n",
    "bagging3 = ensemble.BaggingClassifier(DTC3, n_estimators = 100, max_features=8)\n",
    "Ans3 = cross_validation.cross_val_score(bagging3, data, target, cv=10).mean()\n",
    "print(Ans3)\n",
    "write_answer(Ans3,3)"
   ]
  },
  {
   "cell_type": "code",
   "execution_count": 73,
   "metadata": {},
   "outputs": [
    {
     "name": "stdout",
     "output_type": "stream",
     "text": [
      "0.961094314707\n"
     ]
    }
   ],
   "source": [
    "# --------------------------------------4--------------------------------------\n",
    "DTC4 = tree.DecisionTreeClassifier(max_features='sqrt')\n",
    "bagging4 = ensemble.BaggingClassifier(DTC4, n_estimators = 100)\n",
    "Ans4 = cross_validation.cross_val_score(bagging4, data, target, cv=10).mean()\n",
    "print(Ans4)\n",
    "write_answer(Ans4,4)"
   ]
  },
  {
   "cell_type": "code",
   "execution_count": 80,
   "metadata": {},
   "outputs": [
    {
     "name": "stdout",
     "output_type": "stream",
     "text": [
      "0.522989708714\n",
      "0.773923908213\n",
      "0.882699298746\n",
      "0.92553492155\n",
      "0.915610171696\n",
      "0.916704700165\n",
      "0.923282843928\n",
      "0.929290191864\n",
      "0.917036805422\n"
     ]
    }
   ],
   "source": [
    "# --------------------------------------5--------------------------------------\n",
    "for c in [1, 3, 5, 10, 25, 40, 50, 500, 1000]:\n",
    "    RFC = ensemble.RandomForestClassifier(max_depth = c)\n",
    "    Ans5 = cross_validation.cross_val_score(RFC, data, target, cv=10).mean()\n",
    "    print(Ans5)"
   ]
  },
  {
   "cell_type": "code",
   "execution_count": null,
   "metadata": {
    "collapsed": true
   },
   "outputs": [],
   "source": []
  }
 ],
 "metadata": {
  "kernelspec": {
   "display_name": "Python 3",
   "language": "python",
   "name": "python3"
  },
  "language_info": {
   "codemirror_mode": {
    "name": "ipython",
    "version": 3
   },
   "file_extension": ".py",
   "mimetype": "text/x-python",
   "name": "python",
   "nbconvert_exporter": "python",
   "pygments_lexer": "ipython3",
   "version": "3.5.2"
  }
 },
 "nbformat": 4,
 "nbformat_minor": 1
}
