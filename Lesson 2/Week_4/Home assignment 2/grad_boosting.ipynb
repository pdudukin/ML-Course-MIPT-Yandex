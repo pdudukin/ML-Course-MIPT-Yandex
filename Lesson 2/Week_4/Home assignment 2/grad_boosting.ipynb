{
 "cells": [
  {
   "cell_type": "markdown",
   "metadata": {},
   "source": [
    "# Градиентный бустинг своими руками\n",
    "\n",
    "**Внимание:** в тексте задания произошли изменения - поменялось число деревьев (теперь 50), правило изменения величины шага в задании 3 и добавился параметр `random_state` у решающего дерева. Правильные ответы не поменялись, но теперь их проще получить. Также исправлена опечатка в функции `gbm_predict`.\n",
    "\n",
    "В этом задании будет использоваться датасет `boston` из `sklearn.datasets`. Оставьте последние 25% объектов для контроля качества, разделив `X` и `y` на `X_train`, `y_train` и `X_test`, `y_test`.\n",
    "\n",
    "Целью задания будет реализовать простой вариант градиентного бустинга над регрессионными деревьями для случая квадратичной функции потерь."
   ]
  },
  {
   "cell_type": "code",
   "execution_count": 91,
   "metadata": {
    "collapsed": false
   },
   "outputs": [
    {
     "name": "stderr",
     "output_type": "stream",
     "text": [
      "C:\\Users\\pavel.dudukin\\AppData\\Local\\Continuum\\Anaconda2\\lib\\site-packages\\ipykernel\\__main__.py:11: VisibleDeprecationWarning: using a non-integer number instead of an integer will result in an error in the future\n",
      "C:\\Users\\pavel.dudukin\\AppData\\Local\\Continuum\\Anaconda2\\lib\\site-packages\\ipykernel\\__main__.py:12: VisibleDeprecationWarning: using a non-integer number instead of an integer will result in an error in the future\n",
      "C:\\Users\\pavel.dudukin\\AppData\\Local\\Continuum\\Anaconda2\\lib\\site-packages\\ipykernel\\__main__.py:13: VisibleDeprecationWarning: using a non-integer number instead of an integer will result in an error in the future\n",
      "C:\\Users\\pavel.dudukin\\AppData\\Local\\Continuum\\Anaconda2\\lib\\site-packages\\ipykernel\\__main__.py:14: VisibleDeprecationWarning: using a non-integer number instead of an integer will result in an error in the future\n"
     ]
    }
   ],
   "source": [
    "import numpy as np\n",
    "from sklearn import datasets, tree, metrics, ensemble\n",
    "from sklearn.cross_validation import train_test_split\n",
    "\n",
    "boston = datasets.load_boston()\n",
    "\n",
    "X = boston.data\n",
    "y = boston.target\n",
    "\n",
    "#(X_train, X_test, y_train, y_test) = train_test_split(X, y, test_size = 0.25)\n",
    "X_train = X[:X.shape[0]*0.75,:]\n",
    "X_test = X[X.shape[0]*0.75:,:]\n",
    "y_train = y[:X.shape[0]*0.75]\n",
    "y_test = y[X.shape[0]*0.75:]"
   ]
  },
  {
   "cell_type": "markdown",
   "metadata": {},
   "source": [
    "## Задание 1\n",
    "\n",
    "Как вы уже знаете из лекций, **бустинг** - это метод построения композиций базовых алгоритмов с помощью последовательного добавления к текущей композиции нового алгоритма с некоторым коэффициентом. \n",
    "\n",
    "Градиентный бустинг обучает каждый новый алгоритм так, чтобы он приближал антиградиент ошибки по ответам композиции на обучающей выборке. Аналогично минимизации функций методом градиентного спуска, в градиентном бустинге мы подправляем композицию, изменяя алгоритм в направлении антиградиента ошибки.\n",
    "\n",
    "Воспользуйтесь формулой из лекций, задающей ответы на обучающей выборке, на которые нужно обучать новый алгоритм (фактически это лишь чуть более подробно расписанный градиент от ошибки), и получите частный ее случай, если функция потерь `L` - квадрат отклонения ответа композиции `a(x)` от правильного ответа `y` на данном `x`.\n",
    "\n",
    "Если вы давно не считали производную самостоятельно, вам поможет таблица производных элементарных функций (которую несложно найти в интернете) и правило дифференцирования сложной функции. После дифференцирования квадрата у вас возникнет множитель 2 — т.к. нам все равно предстоит выбирать коэффициент, с которым будет добавлен новый базовый алгоритм, проигноируйте этот множитель при дальнейшем построении алгоритма."
   ]
  },
  {
   "cell_type": "markdown",
   "metadata": {},
   "source": [
    "## Задание 2\n",
    "\n",
    "Заведите массив для объектов `DecisionTreeRegressor` (будем их использовать в качестве базовых алгоритмов) и для вещественных чисел (это будут коэффициенты перед базовыми алгоритмами). \n",
    "\n",
    "В цикле от обучите последовательно 50 решающих деревьев с параметрами `max_depth=5` и `random_state=42` (остальные параметры - по умолчанию). В бустинге зачастую используются сотни и тысячи деревьев, но мы ограничимся 50, чтобы алгоритм работал быстрее, и его было проще отлаживать (т.к. цель задания разобраться, как работает метод). Каждое дерево должно обучаться на одном и том же множестве объектов, но ответы, которые учится прогнозировать дерево, будут меняться в соответствие с полученным в задании 1 правилом. \n",
    "\n",
    "Попробуйте для начала всегда брать коэффициент равным 0.9. Обычно оправдано выбирать коэффициент значительно меньшим - порядка 0.05 или 0.1, но т.к. в нашем учебном примере на стандартном датасете будет всего 50 деревьев, возьмем для начала шаг побольше.\n",
    "\n",
    "В процессе реализации обучения вам потребуется функция, которая будет вычислять прогноз построенной на данный момент композиции деревьев на выборке `X`:\n",
    "\n",
    "```\n",
    "def gbm_predict(X):\n",
    "    return [sum([coeff * algo.predict([x])[0] for algo, coeff in zip(base_algorithms_list, coefficients_list)]) for x in X]\n",
    "(считаем, что base_algorithms_list - список с базовыми алгоритмами, coefficients_list - список с коэффициентами перед алгоритмами)\n",
    "```\n",
    "\n",
    "Эта же функция поможет вам получить прогноз на контрольной выборке и оценить качество работы вашего алгоритма с помощью `mean_squared_error` в `sklearn.metrics`. \n",
    "\n",
    "Возведите результат в степень 0.5, чтобы получить `RMSE`. Полученное значение `RMSE` — **ответ в пункте 2**."
   ]
  },
  {
   "cell_type": "code",
   "execution_count": 92,
   "metadata": {
    "collapsed": true
   },
   "outputs": [],
   "source": [
    "def gbm_predict(X):\n",
    "    return [sum([coeff * algo.predict([x])[0] for algo, coeff in zip(base_algorithms_list, coefficients_list)]) for x in X]"
   ]
  },
  {
   "cell_type": "code",
   "execution_count": 93,
   "metadata": {
    "collapsed": true
   },
   "outputs": [],
   "source": [
    "def write_answer(ans,i):\n",
    "    with open(\"GB_answer\"+str(i)+\".txt\", \"w\") as fout:\n",
    "        fout.write(str(ans))"
   ]
  },
  {
   "cell_type": "code",
   "execution_count": 94,
   "metadata": {
    "collapsed": false
   },
   "outputs": [],
   "source": [
    "base_algorithms_list = []\n",
    "coefficients_list = []\n",
    "\n",
    "y_current = np.array(y_train)\n",
    "num_trees = 50\n",
    "\n",
    "for i in range(num_trees):\n",
    "    DTR_2 = tree.DecisionTreeRegressor(max_depth = 5, random_state = 42)\n",
    "    DTR_2_res = DTR_2.fit(X_train, y_current)\n",
    "    base_algorithms_list.append(DTR_2_res)\n",
    "    coefficients_list.append(0.9)\n",
    "    y_current = y_train - gbm_predict(X_train)"
   ]
  },
  {
   "cell_type": "code",
   "execution_count": 97,
   "metadata": {
    "collapsed": false
   },
   "outputs": [
    {
     "name": "stdout",
     "output_type": "stream",
     "text": [
      "5.47665097417\n"
     ]
    }
   ],
   "source": [
    "RMSE_2 = np.sqrt(metrics.mean_squared_error(y_test, gbm_predict(X_test)))\n",
    "print(RMSE_2)\n",
    "write_answer(RMSE_2,2)"
   ]
  },
  {
   "cell_type": "markdown",
   "metadata": {},
   "source": [
    "## Задание 3\n",
    "\n",
    "Вас может также беспокоить, что двигаясь с постоянным шагом, вблизи минимума ошибки ответы на обучающей выборке меняются слишком резко, перескакивая через минимум. \n",
    "\n",
    "Попробуйте уменьшать вес перед каждым алгоритмом с каждой следующей итерацией по формуле `0.9 / (1.0 + i)`, где `i` - номер итерации (от 0 до 9). Используйте качество работы алгоритма как **ответ в пункте 3**. \n",
    "\n",
    "В реальности часто применяется следующая стратегия выбора шага: как только выбран алгоритм, подберем коэффициент перед ним численным методом оптимизации таким образом, чтобы отклонение от правильных ответов было минимальным. Мы не будем предлагать вам реализовать это для выполнения задания, но рекомендуем попробовать разобраться с такой стратегией и реализовать ее при случае для себя."
   ]
  },
  {
   "cell_type": "code",
   "execution_count": 98,
   "metadata": {
    "collapsed": false
   },
   "outputs": [],
   "source": [
    "base_algorithms_list = []\n",
    "coefficients_list = []\n",
    "\n",
    "y_current = np.array(y_train)\n",
    "num_trees = 10\n",
    "\n",
    "for i in range(num_trees):\n",
    "    DTR_3 = tree.DecisionTreeRegressor(max_depth = 5, random_state = 42)\n",
    "    DTR_3_res = DTR_3.fit(X_train, y_current)\n",
    "    base_algorithms_list.append(DTR_3_res)\n",
    "    coefficients_list.append(0.9/(1 + i))\n",
    "    y_current = y_train - gbm_predict(X_train)"
   ]
  },
  {
   "cell_type": "code",
   "execution_count": 99,
   "metadata": {
    "collapsed": false
   },
   "outputs": [
    {
     "name": "stdout",
     "output_type": "stream",
     "text": [
      "4.65090865256\n"
     ]
    }
   ],
   "source": [
    "RMSE_3 = np.sqrt(metrics.mean_squared_error(y_test, gbm_predict(X_test)))\n",
    "print(RMSE_3)\n",
    "write_answer(RMSE_3,3)"
   ]
  },
  {
   "cell_type": "markdown",
   "metadata": {},
   "source": [
    "## Задание 4\n",
    "\n",
    "Реализованный вами метод - градиентный бустинг над деревьями - очень популярен в машинном обучении. Он представлен как в самой библиотеке `sklearn`, так и в сторонней библиотеке `XGBoost`, которая имеет свой питоновский интерфейс. На практике `XGBoost` работает заметно лучше `GradientBoostingRegressor` из `sklearn`, но для этого задания вы можете использовать любую реализацию. \n",
    "\n",
    "Исследуйте, переобучается ли градиентный бустинг с ростом числа итераций (и подумайте, почему), а также с ростом глубины деревьев. На основе наблюдений выпишите через пробел номера правильных из приведенных ниже утверждений в порядке возрастания номера (это будет **ответ в п.4**):\n",
    "\n",
    "    1. С увеличением числа деревьев, начиная с некоторого момента, качество работы градиентного бустинга не меняется существенно.\n",
    "\n",
    "    2. С увеличением числа деревьев, начиная с некоторого момента, градиентный бустинг начинает переобучаться.\n",
    "\n",
    "    3. С ростом глубины деревьев, начиная с некоторого момента, качество работы градиентного бустинга на тестовой выборке начинает ухудшаться.\n",
    "\n",
    "    4. С ростом глубины деревьев, начиная с некоторого момента, качество работы градиентного бустинга перестает существенно изменяться"
   ]
  },
  {
   "cell_type": "code",
   "execution_count": 100,
   "metadata": {
    "collapsed": false
   },
   "outputs": [
    {
     "name": "stdout",
     "output_type": "stream",
     "text": [
      "Depth = 1; Trees = 1; RMSE = 11.2217086156\n",
      "Depth = 1; Trees = 3; RMSE = 10.8233790868\n",
      "Depth = 1; Trees = 10; RMSE = 9.48835769365\n",
      "Depth = 1; Trees = 50; RMSE = 6.48599849325\n",
      "Depth = 1; Trees = 75; RMSE = 5.82028927943\n",
      "Depth = 1; Trees = 100; RMSE = 5.67029454046\n",
      "Depth = 1; Trees = 200; RMSE = 6.31992210672\n",
      "Depth = 1; Trees = 300; RMSE = 6.56497970819\n",
      "Depth = 1; Trees = 500; RMSE = 6.73999404151\n",
      "Depth = 3; Trees = 1; RMSE = 10.7951646845\n",
      "Depth = 3; Trees = 3; RMSE = 9.68445208172\n",
      "Depth = 3; Trees = 10; RMSE = 7.45190494934\n",
      "Depth = 3; Trees = 50; RMSE = 4.9208321567\n",
      "Depth = 3; Trees = 75; RMSE = 4.69845796809\n",
      "Depth = 3; Trees = 100; RMSE = 4.60625535388\n",
      "Depth = 3; Trees = 200; RMSE = 4.41887696256\n",
      "Depth = 3; Trees = 300; RMSE = 4.3868432527\n",
      "Depth = 3; Trees = 500; RMSE = 4.36575484593\n",
      "Depth = 10; Trees = 1; RMSE = 10.8173895971\n",
      "Depth = 10; Trees = 3; RMSE = 9.75701217282\n",
      "Depth = 10; Trees = 10; RMSE = 7.38002536765\n",
      "Depth = 10; Trees = 50; RMSE = 5.99258304904\n",
      "Depth = 10; Trees = 75; RMSE = 5.97699261298\n",
      "Depth = 10; Trees = 100; RMSE = 5.97572547035\n",
      "Depth = 10; Trees = 200; RMSE = 5.97561416937\n",
      "Depth = 10; Trees = 300; RMSE = 5.97561416937\n",
      "Depth = 10; Trees = 500; RMSE = 5.97561416937\n",
      "Depth = 50; Trees = 1; RMSE = 10.7241984595\n",
      "Depth = 50; Trees = 3; RMSE = 9.61194680017\n",
      "Depth = 50; Trees = 10; RMSE = 7.35102967853\n",
      "Depth = 50; Trees = 50; RMSE = 5.87274399854\n",
      "Depth = 50; Trees = 75; RMSE = 5.86004056876\n",
      "Depth = 50; Trees = 100; RMSE = 5.8588968575\n",
      "Depth = 50; Trees = 200; RMSE = 5.85885996269\n",
      "Depth = 50; Trees = 300; RMSE = 5.85885996269\n",
      "Depth = 50; Trees = 500; RMSE = 5.85885996269\n",
      "Depth = 75; Trees = 1; RMSE = 10.7241984595\n",
      "Depth = 75; Trees = 3; RMSE = 9.61194680017\n",
      "Depth = 75; Trees = 10; RMSE = 7.35102967853\n",
      "Depth = 75; Trees = 50; RMSE = 5.87274399854\n",
      "Depth = 75; Trees = 75; RMSE = 5.86004056876\n",
      "Depth = 75; Trees = 100; RMSE = 5.8588968575\n",
      "Depth = 75; Trees = 200; RMSE = 5.85885996269\n",
      "Depth = 75; Trees = 300; RMSE = 5.85885996269\n",
      "Depth = 75; Trees = 500; RMSE = 5.85885996269\n",
      "Depth = 100; Trees = 1; RMSE = 10.7241984595\n",
      "Depth = 100; Trees = 3; RMSE = 9.61194680017\n",
      "Depth = 100; Trees = 10; RMSE = 7.35102967853\n",
      "Depth = 100; Trees = 50; RMSE = 5.87274399854\n",
      "Depth = 100; Trees = 75; RMSE = 5.86004056876\n",
      "Depth = 100; Trees = 100; RMSE = 5.8588968575\n",
      "Depth = 100; Trees = 200; RMSE = 5.85885996269\n",
      "Depth = 100; Trees = 300; RMSE = 5.85885996269\n",
      "Depth = 100; Trees = 500; RMSE = 5.85885996269\n",
      "Depth = 200; Trees = 1; RMSE = 10.7241984595\n",
      "Depth = 200; Trees = 3; RMSE = 9.61194680017\n",
      "Depth = 200; Trees = 10; RMSE = 7.35102967853\n",
      "Depth = 200; Trees = 50; RMSE = 5.87274399854\n",
      "Depth = 200; Trees = 75; RMSE = 5.86004056876\n",
      "Depth = 200; Trees = 100; RMSE = 5.8588968575\n",
      "Depth = 200; Trees = 200; RMSE = 5.85885996269\n",
      "Depth = 200; Trees = 300; RMSE = 5.85885996269\n",
      "Depth = 200; Trees = 500; RMSE = 5.85885996269\n",
      "Depth = 300; Trees = 1; RMSE = 10.7241984595\n",
      "Depth = 300; Trees = 3; RMSE = 9.61194680017\n",
      "Depth = 300; Trees = 10; RMSE = 7.35102967853\n",
      "Depth = 300; Trees = 50; RMSE = 5.87274399854\n",
      "Depth = 300; Trees = 75; RMSE = 5.86004056876\n",
      "Depth = 300; Trees = 100; RMSE = 5.8588968575\n",
      "Depth = 300; Trees = 200; RMSE = 5.85885996269\n",
      "Depth = 300; Trees = 300; RMSE = 5.85885996269\n",
      "Depth = 300; Trees = 500; RMSE = 5.85885996269\n",
      "Depth = 500; Trees = 1; RMSE = 10.7241984595\n",
      "Depth = 500; Trees = 3; RMSE = 9.61194680017\n",
      "Depth = 500; Trees = 10; RMSE = 7.35102967853\n",
      "Depth = 500; Trees = 50; RMSE = 5.87274399854\n",
      "Depth = 500; Trees = 75; RMSE = 5.86004056876\n",
      "Depth = 500; Trees = 100; RMSE = 5.8588968575\n",
      "Depth = 500; Trees = 200; RMSE = 5.85885996269\n",
      "Depth = 500; Trees = 300; RMSE = 5.85885996269\n",
      "Depth = 500; Trees = 500; RMSE = 5.85885996269\n"
     ]
    }
   ],
   "source": [
    "depth = [1, 3, 10, 50, 75, 100, 200, 300, 500]\n",
    "trees = [1, 3, 10, 50, 75, 100, 200, 300, 500]\n",
    "\n",
    "for d in depth:\n",
    "    for t in trees:\n",
    "        GBR = ensemble.GradientBoostingRegressor(n_estimators = t, max_depth = d, random_state = 42)\n",
    "        GBR_res = GBR.fit(X_train,y_train)\n",
    "        GBR_pred = GBR.predict(X_test)\n",
    "        print(\"Depth = \"+str(d)+\"; Trees = \"+str(t)+\"; RMSE = \"+\n",
    "              str(np.sqrt(metrics.mean_squared_error(y_test, GBR_pred))))"
   ]
  },
  {
   "cell_type": "markdown",
   "metadata": {},
   "source": [
    "## Задание 5\n",
    "\n",
    "Сравните получаемое с помощью градиентного бустинга качество с качеством работы линейной регрессии. \n",
    "\n",
    "Для этого обучите `LinearRegression` из `sklearn.linear_model` (с параметрами по умолчанию) на обучающей выборке и оцените для прогнозов полученного алгоритма на тестовой выборке `RMSE`. Полученное качество - ответ в **пункте 5**. \n",
    "\n",
    "В данном примере качество работы простой модели должно было оказаться хуже, но не стоит забывать, что так бывает не всегда. В заданиях к этому курсу вы еще встретите пример обратной ситуации."
   ]
  },
  {
   "cell_type": "code",
   "execution_count": 101,
   "metadata": {
    "collapsed": false
   },
   "outputs": [
    {
     "name": "stdout",
     "output_type": "stream",
     "text": [
      "8.27046803494\n"
     ]
    }
   ],
   "source": [
    "from sklearn import linear_model\n",
    "\n",
    "estimator = linear_model.LinearRegression()\n",
    "LReg = estimator.fit(X_train, y_train)\n",
    "LReg_predictions = estimator.predict(X_test)\n",
    "\n",
    "RMSE5 = np.sqrt(metrics.mean_squared_error(y_test, LReg_predictions))\n",
    "print(RMSE5)\n",
    "\n",
    "write_answer(RMSE5,5)\n"
   ]
  },
  {
   "cell_type": "code",
   "execution_count": null,
   "metadata": {
    "collapsed": true
   },
   "outputs": [],
   "source": []
  }
 ],
 "metadata": {
  "anaconda-cloud": {},
  "kernelspec": {
   "display_name": "Python [Root]",
   "language": "python",
   "name": "Python [Root]"
  },
  "language_info": {
   "codemirror_mode": {
    "name": "ipython",
    "version": 2
   },
   "file_extension": ".py",
   "mimetype": "text/x-python",
   "name": "python",
   "nbconvert_exporter": "python",
   "pygments_lexer": "ipython2",
   "version": "2.7.12"
  }
 },
 "nbformat": 4,
 "nbformat_minor": 0
}
