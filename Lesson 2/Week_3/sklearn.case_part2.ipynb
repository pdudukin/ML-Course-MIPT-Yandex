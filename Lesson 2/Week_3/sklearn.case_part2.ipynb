{
 "cells": [
  {
   "cell_type": "markdown",
   "metadata": {},
   "source": [
    "# Sklearn"
   ]
  },
  {
   "cell_type": "markdown",
   "metadata": {},
   "source": [
    "## Bike Sharing Demand\n",
    "Задача на kaggle: https://www.kaggle.com/c/bike-sharing-demand\n",
    "\n",
    "По историческим данным о прокате велосипедов и погодных условиях необходимо спрогнозировтаь спрос на прокат велосипедов.\n",
    "\n",
    "В исходной постановке задачи доступно 11 признаков: https://www.kaggle.com/c/prudential-life-insurance-assessment/data\n",
    "\n",
    "В наборе признаков присутсвуют вещественные, категориальные, и бинарные данные. \n",
    "\n",
    "Для демонстрации используется обучающая выборка из исходных данных train.csv, файлы для работы прилагаются."
   ]
  },
  {
   "cell_type": "markdown",
   "metadata": {},
   "source": [
    "### Библиотеки"
   ]
  },
  {
   "cell_type": "code",
   "execution_count": 1,
   "metadata": {
    "collapsed": true
   },
   "outputs": [],
   "source": [
    "from sklearn import cross_validation, grid_search, linear_model, metrics, pipeline, preprocessing\n",
    "\n",
    "import numpy as np\n",
    "import pandas as pd"
   ]
  },
  {
   "cell_type": "code",
   "execution_count": 2,
   "metadata": {},
   "outputs": [
    {
     "name": "stdout",
     "output_type": "stream",
     "text": [
      "Populating the interactive namespace from numpy and matplotlib\n"
     ]
    }
   ],
   "source": [
    "%pylab inline"
   ]
  },
  {
   "cell_type": "markdown",
   "metadata": {},
   "source": [
    "### Загрузка данных"
   ]
  },
  {
   "cell_type": "code",
   "execution_count": 3,
   "metadata": {
    "collapsed": true
   },
   "outputs": [],
   "source": [
    "raw_data = pd.read_csv('bike_sharing_demand.csv', header = 0, sep = ',')"
   ]
  },
  {
   "cell_type": "code",
   "execution_count": 4,
   "metadata": {},
   "outputs": [
    {
     "data": {
      "text/html": [
       "<div>\n",
       "<table border=\"1\" class=\"dataframe\">\n",
       "  <thead>\n",
       "    <tr style=\"text-align: right;\">\n",
       "      <th></th>\n",
       "      <th>datetime</th>\n",
       "      <th>season</th>\n",
       "      <th>holiday</th>\n",
       "      <th>workingday</th>\n",
       "      <th>weather</th>\n",
       "      <th>temp</th>\n",
       "      <th>atemp</th>\n",
       "      <th>humidity</th>\n",
       "      <th>windspeed</th>\n",
       "      <th>casual</th>\n",
       "      <th>registered</th>\n",
       "      <th>count</th>\n",
       "    </tr>\n",
       "  </thead>\n",
       "  <tbody>\n",
       "    <tr>\n",
       "      <th>0</th>\n",
       "      <td>2011-01-01 00:00:00</td>\n",
       "      <td>1</td>\n",
       "      <td>0</td>\n",
       "      <td>0</td>\n",
       "      <td>1</td>\n",
       "      <td>9.84</td>\n",
       "      <td>14.395</td>\n",
       "      <td>81</td>\n",
       "      <td>0.0</td>\n",
       "      <td>3</td>\n",
       "      <td>13</td>\n",
       "      <td>16</td>\n",
       "    </tr>\n",
       "    <tr>\n",
       "      <th>1</th>\n",
       "      <td>2011-01-01 01:00:00</td>\n",
       "      <td>1</td>\n",
       "      <td>0</td>\n",
       "      <td>0</td>\n",
       "      <td>1</td>\n",
       "      <td>9.02</td>\n",
       "      <td>13.635</td>\n",
       "      <td>80</td>\n",
       "      <td>0.0</td>\n",
       "      <td>8</td>\n",
       "      <td>32</td>\n",
       "      <td>40</td>\n",
       "    </tr>\n",
       "    <tr>\n",
       "      <th>2</th>\n",
       "      <td>2011-01-01 02:00:00</td>\n",
       "      <td>1</td>\n",
       "      <td>0</td>\n",
       "      <td>0</td>\n",
       "      <td>1</td>\n",
       "      <td>9.02</td>\n",
       "      <td>13.635</td>\n",
       "      <td>80</td>\n",
       "      <td>0.0</td>\n",
       "      <td>5</td>\n",
       "      <td>27</td>\n",
       "      <td>32</td>\n",
       "    </tr>\n",
       "    <tr>\n",
       "      <th>3</th>\n",
       "      <td>2011-01-01 03:00:00</td>\n",
       "      <td>1</td>\n",
       "      <td>0</td>\n",
       "      <td>0</td>\n",
       "      <td>1</td>\n",
       "      <td>9.84</td>\n",
       "      <td>14.395</td>\n",
       "      <td>75</td>\n",
       "      <td>0.0</td>\n",
       "      <td>3</td>\n",
       "      <td>10</td>\n",
       "      <td>13</td>\n",
       "    </tr>\n",
       "    <tr>\n",
       "      <th>4</th>\n",
       "      <td>2011-01-01 04:00:00</td>\n",
       "      <td>1</td>\n",
       "      <td>0</td>\n",
       "      <td>0</td>\n",
       "      <td>1</td>\n",
       "      <td>9.84</td>\n",
       "      <td>14.395</td>\n",
       "      <td>75</td>\n",
       "      <td>0.0</td>\n",
       "      <td>0</td>\n",
       "      <td>1</td>\n",
       "      <td>1</td>\n",
       "    </tr>\n",
       "  </tbody>\n",
       "</table>\n",
       "</div>"
      ],
      "text/plain": [
       "              datetime  season  holiday  workingday  weather  temp   atemp  \\\n",
       "0  2011-01-01 00:00:00       1        0           0        1  9.84  14.395   \n",
       "1  2011-01-01 01:00:00       1        0           0        1  9.02  13.635   \n",
       "2  2011-01-01 02:00:00       1        0           0        1  9.02  13.635   \n",
       "3  2011-01-01 03:00:00       1        0           0        1  9.84  14.395   \n",
       "4  2011-01-01 04:00:00       1        0           0        1  9.84  14.395   \n",
       "\n",
       "   humidity  windspeed  casual  registered  count  \n",
       "0        81        0.0       3          13     16  \n",
       "1        80        0.0       8          32     40  \n",
       "2        80        0.0       5          27     32  \n",
       "3        75        0.0       3          10     13  \n",
       "4        75        0.0       0           1      1  "
      ]
     },
     "execution_count": 4,
     "metadata": {},
     "output_type": "execute_result"
    }
   ],
   "source": [
    "raw_data.head()"
   ]
  },
  {
   "cell_type": "markdown",
   "metadata": {},
   "source": [
    "### Предобработка данных"
   ]
  },
  {
   "cell_type": "markdown",
   "metadata": {},
   "source": [
    "#### Обучение и отложенный тест"
   ]
  },
  {
   "cell_type": "code",
   "execution_count": 5,
   "metadata": {
    "collapsed": true
   },
   "outputs": [],
   "source": [
    "raw_data.datetime = raw_data.datetime.apply(pd.to_datetime)"
   ]
  },
  {
   "cell_type": "code",
   "execution_count": 6,
   "metadata": {
    "collapsed": true
   },
   "outputs": [],
   "source": [
    "raw_data['month'] = raw_data.datetime.apply(lambda x : x.month)\n",
    "raw_data['hour'] = raw_data.datetime.apply(lambda x : x.hour)"
   ]
  },
  {
   "cell_type": "code",
   "execution_count": 7,
   "metadata": {
    "collapsed": true
   },
   "outputs": [],
   "source": [
    "train_data = raw_data.iloc[:-1000, :]\n",
    "hold_out_test_data = raw_data.iloc[-1000:, :]"
   ]
  },
  {
   "cell_type": "code",
   "execution_count": 8,
   "metadata": {},
   "outputs": [
    {
     "name": "stdout",
     "output_type": "stream",
     "text": [
      "(10886, 14) (9886, 14) (1000, 14)\n"
     ]
    }
   ],
   "source": [
    "print raw_data.shape, train_data.shape, hold_out_test_data.shape"
   ]
  },
  {
   "cell_type": "code",
   "execution_count": 9,
   "metadata": {
    "collapsed": true
   },
   "outputs": [],
   "source": [
    "#обучение\n",
    "train_labels = train_data['count'].values\n",
    "train_data = train_data.drop(['datetime', 'count', 'casual', 'registered'], axis = 1)"
   ]
  },
  {
   "cell_type": "code",
   "execution_count": 10,
   "metadata": {},
   "outputs": [],
   "source": [
    "#тест\n",
    "test_labels = hold_out_test_data['count'].values\n",
    "test_data = hold_out_test_data.drop(['datetime', 'count', 'casual', 'registered'], axis = 1)"
   ]
  },
  {
   "cell_type": "code",
   "execution_count": 11,
   "metadata": {
    "collapsed": true
   },
   "outputs": [],
   "source": [
    "binary_data_columns = ['holiday', 'workingday']\n",
    "binary_data_indices = np.array([(column in binary_data_columns) for column in train_data.columns], dtype = bool)"
   ]
  },
  {
   "cell_type": "code",
   "execution_count": 12,
   "metadata": {},
   "outputs": [
    {
     "name": "stdout",
     "output_type": "stream",
     "text": [
      "['holiday', 'workingday']\n",
      "[False  True  True False False False False False False False]\n"
     ]
    }
   ],
   "source": [
    "print binary_data_columns\n",
    "print binary_data_indices"
   ]
  },
  {
   "cell_type": "code",
   "execution_count": 13,
   "metadata": {
    "collapsed": true
   },
   "outputs": [],
   "source": [
    "categorical_data_columns = ['season', 'weather', 'month'] \n",
    "categorical_data_indices = np.array([(column in categorical_data_columns) for column in train_data.columns], dtype = bool)"
   ]
  },
  {
   "cell_type": "code",
   "execution_count": 14,
   "metadata": {},
   "outputs": [
    {
     "name": "stdout",
     "output_type": "stream",
     "text": [
      "['season', 'weather', 'month']\n",
      "[ True False False  True False False False False  True False]\n"
     ]
    }
   ],
   "source": [
    "print categorical_data_columns\n",
    "print categorical_data_indices"
   ]
  },
  {
   "cell_type": "code",
   "execution_count": 15,
   "metadata": {},
   "outputs": [],
   "source": [
    "numeric_data_columns = ['temp', 'atemp', 'humidity', 'windspeed', 'hour']\n",
    "numeric_data_indices = np.array([(column in numeric_data_columns) for column in train_data.columns], dtype = bool)"
   ]
  },
  {
   "cell_type": "code",
   "execution_count": 16,
   "metadata": {},
   "outputs": [
    {
     "name": "stdout",
     "output_type": "stream",
     "text": [
      "['temp', 'atemp', 'humidity', 'windspeed', 'hour']\n",
      "[False False False False  True  True  True  True False  True]\n"
     ]
    }
   ],
   "source": [
    "print numeric_data_columns\n",
    "print numeric_data_indices"
   ]
  },
  {
   "cell_type": "markdown",
   "metadata": {},
   "source": [
    "### Pipeline"
   ]
  },
  {
   "cell_type": "code",
   "execution_count": 17,
   "metadata": {
    "collapsed": true
   },
   "outputs": [],
   "source": [
    "regressor = linear_model.SGDRegressor(random_state = 0, n_iter = 3, loss = 'squared_loss', penalty = 'l2')"
   ]
  },
  {
   "cell_type": "code",
   "execution_count": 18,
   "metadata": {},
   "outputs": [],
   "source": [
    "estimator = pipeline.Pipeline(steps = [       \n",
    "    ('feature_processing', pipeline.FeatureUnion(transformer_list = [        \n",
    "            #binary\n",
    "            ('binary_variables_processing', preprocessing.FunctionTransformer(lambda data: data[:, binary_data_indices])), \n",
    "                    \n",
    "            #numeric\n",
    "            ('numeric_variables_processing', pipeline.Pipeline(steps = [\n",
    "                ('selecting', preprocessing.FunctionTransformer(lambda data: data[:, numeric_data_indices])),\n",
    "                ('scaling', preprocessing.StandardScaler(with_mean = 0))            \n",
    "                        ])),\n",
    "        \n",
    "            #categorical\n",
    "            ('categorical_variables_processing', pipeline.Pipeline(steps = [\n",
    "                ('selecting', preprocessing.FunctionTransformer(lambda data: data[:, categorical_data_indices])),\n",
    "                ('hot_encoding', preprocessing.OneHotEncoder(handle_unknown = 'ignore'))            \n",
    "                        ])),\n",
    "        ])),\n",
    "    ('model_fitting', regressor)\n",
    "    ]\n",
    ")"
   ]
  },
  {
   "cell_type": "code",
   "execution_count": 19,
   "metadata": {},
   "outputs": [
    {
     "data": {
      "text/plain": [
       "Pipeline(steps=[('feature_processing', FeatureUnion(n_jobs=1,\n",
       "       transformer_list=[('binary_variables_processing', FunctionTransformer(accept_sparse=False,\n",
       "          func=<function <lambda> at 0x000000000BC37898>, pass_y=False,\n",
       "          validate=True)), ('numeric_variables_processing', Pipeline(steps=[(...r=3, penalty='l2', power_t=0.25,\n",
       "       random_state=0, shuffle=True, verbose=0, warm_start=False))])"
      ]
     },
     "execution_count": 19,
     "metadata": {},
     "output_type": "execute_result"
    }
   ],
   "source": [
    "estimator.fit(train_data, train_labels)"
   ]
  },
  {
   "cell_type": "code",
   "execution_count": 20,
   "metadata": {},
   "outputs": [
    {
     "data": {
      "text/plain": [
       "120.17177172806858"
      ]
     },
     "execution_count": 20,
     "metadata": {},
     "output_type": "execute_result"
    }
   ],
   "source": [
    "metrics.mean_absolute_error(test_labels, estimator.predict(test_data))"
   ]
  },
  {
   "cell_type": "markdown",
   "metadata": {},
   "source": [
    "### Подбор параметров"
   ]
  },
  {
   "cell_type": "code",
   "execution_count": 21,
   "metadata": {},
   "outputs": [
    {
     "data": {
      "text/plain": [
       "['feature_processing__binary_variables_processing__pass_y',\n",
       " 'feature_processing__binary_variables_processing__func',\n",
       " 'model_fitting__learning_rate',\n",
       " 'feature_processing__n_jobs',\n",
       " 'feature_processing__numeric_variables_processing__selecting',\n",
       " 'feature_processing__numeric_variables_processing__scaling__with_std',\n",
       " 'feature_processing__categorical_variables_processing__selecting__pass_y',\n",
       " 'feature_processing__transformer_weights',\n",
       " 'feature_processing__transformer_list',\n",
       " 'model_fitting__fit_intercept',\n",
       " 'feature_processing',\n",
       " 'feature_processing__categorical_variables_processing__hot_encoding__handle_unknown',\n",
       " 'model_fitting__l1_ratio',\n",
       " 'feature_processing__categorical_variables_processing__selecting__validate',\n",
       " 'feature_processing__categorical_variables_processing__hot_encoding__n_values',\n",
       " 'feature_processing__numeric_variables_processing__steps',\n",
       " 'model_fitting__warm_start',\n",
       " 'model_fitting__random_state',\n",
       " 'feature_processing__categorical_variables_processing__hot_encoding__sparse',\n",
       " 'feature_processing__numeric_variables_processing__selecting__accept_sparse',\n",
       " 'feature_processing__categorical_variables_processing__selecting__func',\n",
       " 'model_fitting__epsilon',\n",
       " 'feature_processing__numeric_variables_processing__selecting__func',\n",
       " 'feature_processing__binary_variables_processing__validate',\n",
       " 'feature_processing__categorical_variables_processing',\n",
       " 'feature_processing__numeric_variables_processing__selecting__pass_y',\n",
       " 'model_fitting__verbose',\n",
       " 'feature_processing__numeric_variables_processing__selecting__validate',\n",
       " 'model_fitting__penalty',\n",
       " 'feature_processing__categorical_variables_processing__steps',\n",
       " 'feature_processing__numeric_variables_processing',\n",
       " 'model_fitting__eta0',\n",
       " 'feature_processing__numeric_variables_processing__scaling',\n",
       " 'model_fitting__average',\n",
       " 'feature_processing__categorical_variables_processing__selecting__accept_sparse',\n",
       " 'feature_processing__categorical_variables_processing__hot_encoding__dtype',\n",
       " 'feature_processing__categorical_variables_processing__hot_encoding__categorical_features',\n",
       " 'feature_processing__binary_variables_processing__accept_sparse',\n",
       " 'model_fitting__alpha',\n",
       " 'feature_processing__numeric_variables_processing__scaling__with_mean',\n",
       " 'model_fitting__power_t',\n",
       " 'feature_processing__numeric_variables_processing__scaling__copy',\n",
       " 'model_fitting__n_iter',\n",
       " 'model_fitting',\n",
       " 'steps',\n",
       " 'feature_processing__binary_variables_processing',\n",
       " 'model_fitting__loss',\n",
       " 'feature_processing__categorical_variables_processing__selecting',\n",
       " 'feature_processing__categorical_variables_processing__hot_encoding',\n",
       " 'model_fitting__shuffle']"
      ]
     },
     "execution_count": 21,
     "metadata": {},
     "output_type": "execute_result"
    }
   ],
   "source": [
    "estimator.get_params().keys()"
   ]
  },
  {
   "cell_type": "code",
   "execution_count": 22,
   "metadata": {},
   "outputs": [],
   "source": [
    "parameters_grid = {\n",
    "    'model_fitting__alpha' : [0.0001, 0.001, 0,1],\n",
    "    'model_fitting__eta0' : [0.001, 0.05],\n",
    "}"
   ]
  },
  {
   "cell_type": "code",
   "execution_count": 23,
   "metadata": {},
   "outputs": [],
   "source": [
    "grid_cv = grid_search.GridSearchCV(estimator, parameters_grid, scoring = 'mean_absolute_error', cv = 4)"
   ]
  },
  {
   "cell_type": "code",
   "execution_count": 24,
   "metadata": {},
   "outputs": [
    {
     "name": "stdout",
     "output_type": "stream",
     "text": [
      "Wall time: 3.72 s\n"
     ]
    },
    {
     "data": {
      "text/plain": [
       "GridSearchCV(cv=4, error_score='raise',\n",
       "       estimator=Pipeline(steps=[('feature_processing', FeatureUnion(n_jobs=1,\n",
       "       transformer_list=[('binary_variables_processing', FunctionTransformer(accept_sparse=False,\n",
       "          func=<function <lambda> at 0x000000000BC37898>, pass_y=False,\n",
       "          validate=True)), ('numeric_variables_processing', Pipeline(steps=[(...r=3, penalty='l2', power_t=0.25,\n",
       "       random_state=0, shuffle=True, verbose=0, warm_start=False))]),\n",
       "       fit_params={}, iid=True, n_jobs=1,\n",
       "       param_grid={'model_fitting__eta0': [0.001, 0.05], 'model_fitting__alpha': [0.0001, 0.001, 0, 1]},\n",
       "       pre_dispatch='2*n_jobs', refit=True, scoring='mean_absolute_error',\n",
       "       verbose=0)"
      ]
     },
     "execution_count": 24,
     "metadata": {},
     "output_type": "execute_result"
    }
   ],
   "source": [
    "%%time\n",
    "grid_cv.fit(train_data, train_labels)"
   ]
  },
  {
   "cell_type": "code",
   "execution_count": 25,
   "metadata": {},
   "outputs": [
    {
     "name": "stdout",
     "output_type": "stream",
     "text": [
      "-106.601939797\n",
      "{'model_fitting__eta0': 0.05, 'model_fitting__alpha': 0.001}\n"
     ]
    }
   ],
   "source": [
    "print grid_cv.best_score_\n",
    "print grid_cv.best_params_"
   ]
  },
  {
   "cell_type": "markdown",
   "metadata": {},
   "source": [
    "### Оценка по отложенному тесту"
   ]
  },
  {
   "cell_type": "code",
   "execution_count": 26,
   "metadata": {
    "collapsed": true
   },
   "outputs": [],
   "source": [
    "test_predictions = grid_cv.best_estimator_.predict(test_data)"
   ]
  },
  {
   "cell_type": "code",
   "execution_count": 27,
   "metadata": {},
   "outputs": [
    {
     "data": {
      "text/plain": [
       "125.11055616822885"
      ]
     },
     "execution_count": 27,
     "metadata": {},
     "output_type": "execute_result"
    }
   ],
   "source": [
    "metrics.mean_absolute_error(test_labels, test_predictions)"
   ]
  },
  {
   "cell_type": "code",
   "execution_count": 28,
   "metadata": {},
   "outputs": [
    {
     "name": "stdout",
     "output_type": "stream",
     "text": [
      "[525 835 355 222 228 325 328 308 346 446 943 838 531 432 195 181 199  49\n",
      "  17  16]\n"
     ]
    }
   ],
   "source": [
    "print test_labels[:20]"
   ]
  },
  {
   "cell_type": "code",
   "execution_count": 29,
   "metadata": {},
   "outputs": [
    {
     "name": "stdout",
     "output_type": "stream",
     "text": [
      "[ 153.28859124  181.89867268  227.64068051  262.47727954  278.91095558\n",
      "  279.82091706  301.6223314   333.35079391  336.28447325  348.55425173\n",
      "  346.29477487  336.77206344  318.29674096  298.65247956  285.35831745\n",
      "  246.0338046   252.72004984   58.96734361   66.43816405   73.90898448]\n"
     ]
    }
   ],
   "source": [
    "print test_predictions[:20]"
   ]
  },
  {
   "cell_type": "code",
   "execution_count": 30,
   "metadata": {},
   "outputs": [
    {
     "data": {
      "text/plain": [
       "<matplotlib.collections.PathCollection at 0xbf7dd30>"
      ]
     },
     "execution_count": 30,
     "metadata": {},
     "output_type": "execute_result"
    },
    {
     "data": {
      "image/png": "[encoded data removed]",
      "text/plain": [
       "<matplotlib.figure.Figure at 0xbe4dac8>"
      ]
     },
     "metadata": {},
     "output_type": "display_data"
    }
   ],
   "source": [
    "pylab.figure(figsize=(8, 6))\n",
    "pylab.grid(True)\n",
    "pylab.xlim(-100,1100)\n",
    "pylab.ylim(-100,1100)\n",
    "pylab.scatter(train_labels, grid_cv.best_estimator_.predict(train_data), alpha=0.5, color = 'red')\n",
    "pylab.scatter(test_labels, grid_cv.best_estimator_.predict(test_data), alpha=0.5, color = 'blue')"
   ]
  },
  {
   "cell_type": "markdown",
   "metadata": {},
   "source": [
    "### Другая модель"
   ]
  },
  {
   "cell_type": "code",
   "execution_count": 31,
   "metadata": {
    "collapsed": true
   },
   "outputs": [],
   "source": [
    "from sklearn.ensemble import RandomForestRegressor"
   ]
  },
  {
   "cell_type": "code",
   "execution_count": 32,
   "metadata": {
    "collapsed": true
   },
   "outputs": [],
   "source": [
    "regressor = RandomForestRegressor(random_state = 0, max_depth = 20, n_estimators = 50)"
   ]
  },
  {
   "cell_type": "code",
   "execution_count": 33,
   "metadata": {},
   "outputs": [],
   "source": [
    "estimator = pipeline.Pipeline(steps = [       \n",
    "    ('feature_processing', pipeline.FeatureUnion(transformer_list = [        \n",
    "            #binary\n",
    "            ('binary_variables_processing', preprocessing.FunctionTransformer(lambda data: data[:, binary_data_indices])), \n",
    "                    \n",
    "            #numeric\n",
    "            ('numeric_variables_processing', pipeline.Pipeline(steps = [\n",
    "                ('selecting', preprocessing.FunctionTransformer(lambda data: data[:, numeric_data_indices])),\n",
    "                ('scaling', preprocessing.StandardScaler(with_mean = 0, with_std = 1))            \n",
    "                        ])),\n",
    "        \n",
    "            #categorical\n",
    "            ('categorical_variables_processing', pipeline.Pipeline(steps = [\n",
    "                ('selecting', preprocessing.FunctionTransformer(lambda data: data[:, categorical_data_indices])),\n",
    "                ('hot_encoding', preprocessing.OneHotEncoder(handle_unknown = 'ignore'))            \n",
    "                        ])),\n",
    "        ])),\n",
    "    ('model_fitting', regressor)\n",
    "    ]\n",
    ")"
   ]
  },
  {
   "cell_type": "code",
   "execution_count": null,
   "metadata": {},
   "outputs": [],
   "source": [
    "estimator.fit(train_data, train_labels)"
   ]
  },
  {
   "cell_type": "code",
   "execution_count": null,
   "metadata": {},
   "outputs": [],
   "source": [
    "metrics.mean_absolute_error(test_labels, estimator.predict(test_data))"
   ]
  },
  {
   "cell_type": "code",
   "execution_count": null,
   "metadata": {},
   "outputs": [],
   "source": [
    "test_labels[:10]"
   ]
  },
  {
   "cell_type": "code",
   "execution_count": null,
   "metadata": {},
   "outputs": [],
   "source": [
    "estimator.predict(test_data)[:10]"
   ]
  },
  {
   "cell_type": "code",
   "execution_count": null,
   "metadata": {},
   "outputs": [],
   "source": [
    "pylab.figure(figsize=(16, 6))\n",
    "\n",
    "pylab.subplot(1,2,1)\n",
    "pylab.grid(True)\n",
    "pylab.xlim(-100,1100)\n",
    "pylab.ylim(-100,1100)\n",
    "pylab.scatter(train_labels, grid_cv.best_estimator_.predict(train_data), alpha=0.5, color = 'red')\n",
    "pylab.scatter(test_labels, grid_cv.best_estimator_.predict(test_data), alpha=0.5, color = 'blue')\n",
    "pylab.title('linear model')\n",
    "\n",
    "pylab.subplot(1,2,2)\n",
    "pylab.grid(True)\n",
    "pylab.xlim(-100,1100)\n",
    "pylab.ylim(-100,1100)\n",
    "pylab.scatter(train_labels, estimator.predict(train_data), alpha=0.5, color = 'red')\n",
    "pylab.scatter(test_labels, estimator.predict(test_data), alpha=0.5, color = 'blue')\n",
    "pylab.title('random forest model')"
   ]
  }
 ],
 "metadata": {
  "anaconda-cloud": {},
  "kernelspec": {
   "display_name": "Python 3",
   "language": "python",
   "name": "python3"
  },
  "language_info": {
   "codemirror_mode": {
    "name": "ipython",
    "version": 3
   },
   "file_extension": ".py",
   "mimetype": "text/x-python",
   "name": "python",
   "nbconvert_exporter": "python",
   "pygments_lexer": "ipython3",
   "version": "3.5.2"
  }
 },
 "nbformat": 4,
 "nbformat_minor": 1
}
