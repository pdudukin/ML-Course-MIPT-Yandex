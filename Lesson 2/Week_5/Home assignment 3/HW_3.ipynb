{
 "cells": [
  {
   "cell_type": "code",
   "execution_count": 1,
   "metadata": {
    "collapsed": false
   },
   "outputs": [],
   "source": [
    "from sklearn import datasets, metrics\n",
    "import numpy as np"
   ]
  },
  {
   "cell_type": "code",
   "execution_count": 2,
   "metadata": {
    "collapsed": false
   },
   "outputs": [],
   "source": [
    "dgts = datasets.load_digits()\n",
    "\n",
    "test_size = 3./4\n",
    "\n",
    "X = dgts.data\n",
    "y = dgts.target"
   ]
  },
  {
   "cell_type": "code",
   "execution_count": 3,
   "metadata": {
    "collapsed": false
   },
   "outputs": [],
   "source": [
    "def get_accuracy(X, y, test_size):\n",
    "    \n",
    "    X_train = X[:X.shape[0]*test_size,:]\n",
    "    X_test = X[X.shape[0]*test_size:,:]\n",
    "    y_train = y[:y.shape[0]*test_size]\n",
    "    y_test = y[y.shape[0]*test_size:]\n",
    "      \n",
    "    i = 0\n",
    "    j = 0\n",
    "    \n",
    "    dist = np.zeros([X_test.shape[0], X_train.shape[0]])\n",
    "    \n",
    "    for i in range(X_test.shape[0]):\n",
    "        for j in range(X_train.shape[0]):\n",
    "            dist[i][j] = np.sum((X_test[i]-X_train[j])**2)\n",
    "\n",
    "    pairs = []\n",
    "    \n",
    "    for i in range(X_test.shape[0]):\n",
    "        pairs.append((np.amin(dist[i], axis = 0), y_train[np.argmin(dist[i], axis = 0)]))\n",
    "          \n",
    "    errors_prc = 1.0-metrics.accuracy_score(y_test, [predicted[1] for predicted in pairs])\n",
    "    \n",
    "    return errors_prc"
   ]
  },
  {
   "cell_type": "code",
   "execution_count": 4,
   "metadata": {
    "collapsed": true
   },
   "outputs": [],
   "source": [
    "def write_answer(ans, ind):\n",
    "    with open(\"Answer_\"+str(ind)+\".txt\", \"w\") as fout:\n",
    "        fout.write(str(ans))  "
   ]
  },
  {
   "cell_type": "code",
   "execution_count": 5,
   "metadata": {
    "collapsed": false,
    "scrolled": true
   },
   "outputs": [
    {
     "name": "stderr",
     "output_type": "stream",
     "text": [
      "C:\\Users\\PDudukin\\AppData\\Local\\Continuum\\Anaconda2\\lib\\site-packages\\ipykernel\\__main__.py:3: VisibleDeprecationWarning: using a non-integer number instead of an integer will result in an error in the future\n",
      "  app.launch_new_instance()\n",
      "C:\\Users\\PDudukin\\AppData\\Local\\Continuum\\Anaconda2\\lib\\site-packages\\ipykernel\\__main__.py:4: VisibleDeprecationWarning: using a non-integer number instead of an integer will result in an error in the future\n",
      "C:\\Users\\PDudukin\\AppData\\Local\\Continuum\\Anaconda2\\lib\\site-packages\\ipykernel\\__main__.py:5: VisibleDeprecationWarning: using a non-integer number instead of an integer will result in an error in the future\n",
      "C:\\Users\\PDudukin\\AppData\\Local\\Continuum\\Anaconda2\\lib\\site-packages\\ipykernel\\__main__.py:6: VisibleDeprecationWarning: using a non-integer number instead of an integer will result in an error in the future\n"
     ]
    },
    {
     "name": "stdout",
     "output_type": "stream",
     "text": [
      "0.0377777777778\n"
     ]
    }
   ],
   "source": [
    "answer_1 = get_accuracy(X, y, test_size)\n",
    "print(answer_1)\n",
    "write_answer(answer_1,1)"
   ]
  },
  {
   "cell_type": "code",
   "execution_count": null,
   "metadata": {
    "collapsed": true
   },
   "outputs": [],
   "source": []
  },
  {
   "cell_type": "code",
   "execution_count": null,
   "metadata": {
    "collapsed": true
   },
   "outputs": [],
   "source": []
  }
 ],
 "metadata": {
  "anaconda-cloud": {},
  "kernelspec": {
   "display_name": "Python 3",
   "language": "python",
   "name": "python3"
  },
  "language_info": {
   "codemirror_mode": {
    "name": "ipython",
    "version": 3
   },
   "file_extension": ".py",
   "mimetype": "text/x-python",
   "name": "python",
   "nbconvert_exporter": "python",
   "pygments_lexer": "ipython3",
   "version": "3.6.0"
  }
 },
 "nbformat": 4,
 "nbformat_minor": 0
}
