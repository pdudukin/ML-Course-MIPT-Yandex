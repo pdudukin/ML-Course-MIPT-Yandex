{
 "cells": [
  {
   "cell_type": "code",
   "execution_count": 41,
   "metadata": {
    "collapsed": false
   },
   "outputs": [],
   "source": [
    "from sklearn import datasets, metrics\n",
    "from sklearn.neighbors import NearestNeighbors\n",
    "import numpy as np"
   ]
  },
  {
   "cell_type": "code",
   "execution_count": 42,
   "metadata": {
    "collapsed": false
   },
   "outputs": [
    {
     "name": "stderr",
     "output_type": "stream",
     "text": [
      "C:\\Users\\pavel.dudukin\\AppData\\Local\\Continuum\\Anaconda2\\lib\\site-packages\\ipykernel\\__main__.py:9: VisibleDeprecationWarning: using a non-integer number instead of an integer will result in an error in the future\n",
      "C:\\Users\\pavel.dudukin\\AppData\\Local\\Continuum\\Anaconda2\\lib\\site-packages\\ipykernel\\__main__.py:10: VisibleDeprecationWarning: using a non-integer number instead of an integer will result in an error in the future\n",
      "C:\\Users\\pavel.dudukin\\AppData\\Local\\Continuum\\Anaconda2\\lib\\site-packages\\ipykernel\\__main__.py:11: VisibleDeprecationWarning: using a non-integer number instead of an integer will result in an error in the future\n",
      "C:\\Users\\pavel.dudukin\\AppData\\Local\\Continuum\\Anaconda2\\lib\\site-packages\\ipykernel\\__main__.py:12: VisibleDeprecationWarning: using a non-integer number instead of an integer will result in an error in the future\n"
     ]
    }
   ],
   "source": [
    "dgts = datasets.load_digits()\n",
    "\n",
    "test_size = 3./4\n",
    "k=6\n",
    "\n",
    "X = dgts.data\n",
    "y = dgts.target\n",
    "\n",
    "X_train = X[:X.shape[0]*test_size,:]\n",
    "X_test = X[X.shape[0]*test_size:,:]\n",
    "y_train = y[:y.shape[0]*test_size]\n",
    "y_test = y[y.shape[0]*test_size:]"
   ]
  },
  {
   "cell_type": "code",
   "execution_count": 54,
   "metadata": {
    "collapsed": false
   },
   "outputs": [
    {
     "name": "stdout",
     "output_type": "stream",
     "text": [
      "[[   0  877 1167 1029  464  957]\n",
      " [   1   93 1120 1112 1050  466]\n",
      " [   2   57   51   50  115  277]\n",
      " ..., \n",
      " [1344 1104 1338 1143 1337  518]\n",
      " [1345 1215  802  490  146  451]\n",
      " [1346  879 1246  835  836  345]]\n"
     ]
    }
   ],
   "source": [
    "classifier = NearestNeighbors(n_neighbors=6, algorithm='ball_tree').fit(X_train)\n",
    "distances, indices = classifier.kneighbors(X_train)\n",
    "\n",
    "print indices"
   ]
  },
  {
   "cell_type": "code",
   "execution_count": 26,
   "metadata": {
    "collapsed": false,
    "scrolled": true
   },
   "outputs": [
    {
     "name": "stderr",
     "output_type": "stream",
     "text": [
      "C:\\Users\\pavel.dudukin\\AppData\\Local\\Continuum\\Anaconda2\\lib\\site-packages\\ipykernel\\__main__.py:3: VisibleDeprecationWarning: using a non-integer number instead of an integer will result in an error in the future\n",
      "  app.launch_new_instance()\n",
      "C:\\Users\\pavel.dudukin\\AppData\\Local\\Continuum\\Anaconda2\\lib\\site-packages\\ipykernel\\__main__.py:4: VisibleDeprecationWarning: using a non-integer number instead of an integer will result in an error in the future\n",
      "C:\\Users\\pavel.dudukin\\AppData\\Local\\Continuum\\Anaconda2\\lib\\site-packages\\ipykernel\\__main__.py:5: VisibleDeprecationWarning: using a non-integer number instead of an integer will result in an error in the future\n",
      "C:\\Users\\pavel.dudukin\\AppData\\Local\\Continuum\\Anaconda2\\lib\\site-packages\\ipykernel\\__main__.py:6: VisibleDeprecationWarning: using a non-integer number instead of an integer will result in an error in the future\n"
     ]
    },
    {
     "name": "stdout",
     "output_type": "stream",
     "text": [
      "[[ 1691.  2808.  2875. ...,  1615.  2869.   647.]\n",
      " [ 2884.  2153.  2888. ...,  2746.  3532.  2312.]\n",
      " [ 2209.  3276.  2719. ...,  1807.  2917.  1429.]\n",
      " ..., \n",
      " [ 2538.  1489.  1470. ...,  2778.  1574.  1670.]\n",
      " [ 1374.  2359.  2578. ...,  1840.  1916.  1666.]\n",
      " [ 2212.  2533.  1932. ...,  2580.  1286.  1488.]]\n",
      "--------------------------------\n",
      "[[  203.   332.   408. ...,  4016.  4149.  4152.]\n",
      " [  477.   481.   499. ...,  4247.  4276.  4353.]\n",
      " [  356.   429.   447. ...,  4462.  4557.  4561.]\n",
      " ..., \n",
      " [  434.   471.   526. ...,  3814.  3893.  3913.]\n",
      " [  381.   445.   570. ...,  3845.  3870.  4004.]\n",
      " [  715.   763.   769. ...,  4089.  4151.  4210.]]\n",
      "[(83.0, 0), (102.0, 0), (107.0, 0), (107.0, 0), (113.0, 0), (114.0, 0)]\n",
      "Misclassification rate is 90.44%\n"
     ]
    }
   ],
   "source": [
    "answer_1 = get_accuracy(X, y, test_size, k)\n",
    "print(\"Misclassification rate is \"+str(round(answer_1*100,2))+\"%\")"
   ]
  },
  {
   "cell_type": "code",
   "execution_count": null,
   "metadata": {
    "collapsed": true
   },
   "outputs": [],
   "source": []
  }
 ],
 "metadata": {
  "anaconda-cloud": {},
  "kernelspec": {
   "display_name": "Python [Root]",
   "language": "python",
   "name": "Python [Root]"
  },
  "language_info": {
   "codemirror_mode": {
    "name": "ipython",
    "version": 2
   },
   "file_extension": ".py",
   "mimetype": "text/x-python",
   "name": "python",
   "nbconvert_exporter": "python",
   "pygments_lexer": "ipython2",
   "version": "2.7.12"
  }
 },
 "nbformat": 4,
 "nbformat_minor": 0
}
