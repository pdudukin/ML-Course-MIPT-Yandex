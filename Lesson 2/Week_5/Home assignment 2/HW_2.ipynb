{
 "cells": [
  {
   "cell_type": "code",
   "execution_count": 65,
   "metadata": {
    "collapsed": false
   },
   "outputs": [],
   "source": [
    "from sklearn import datasets, naive_bayes\n",
    "from sklearn.cross_validation import cross_val_score"
   ]
  },
  {
   "cell_type": "code",
   "execution_count": 66,
   "metadata": {
    "collapsed": false
   },
   "outputs": [],
   "source": [
    "def write_answer(ans,ind):\n",
    "    with open(\"answer_\"+str(ind)+\".txt\",\"w\") as fout:\n",
    "        fout.write(str(ans))"
   ]
  },
  {
   "cell_type": "code",
   "execution_count": 67,
   "metadata": {
    "collapsed": false
   },
   "outputs": [],
   "source": [
    "data_bc = datasets.load_breast_cancer()\n",
    "data_dg = datasets.load_digits()"
   ]
  },
  {
   "cell_type": "code",
   "execution_count": 68,
   "metadata": {
    "collapsed": false
   },
   "outputs": [],
   "source": [
    "classifier_Bernoulli = naive_bayes.BernoulliNB()\n",
    "classifier_Multinomial = naive_bayes.MultinomialNB()\n",
    "classifier_Gaussian = naive_bayes.GaussianNB()"
   ]
  },
  {
   "cell_type": "markdown",
   "metadata": {},
   "source": [
    "## Bernoulli classifier"
   ]
  },
  {
   "cell_type": "code",
   "execution_count": 69,
   "metadata": {
    "collapsed": false
   },
   "outputs": [
    {
     "name": "stdout",
     "output_type": "stream",
     "text": [
      "Breast cancer score mean is: 0.627420\n",
      "Digits score mean is: 0.825824\n"
     ]
    }
   ],
   "source": [
    "scores_bc_B = cross_val_score(classifier_Bernoulli, data_bc.data, data_bc.target)\n",
    "scores_dg_B = cross_val_score(classifier_Bernoulli, data_dg.data, data_dg.target)\n",
    "\n",
    "mean_bc_B = scores_bc_B.mean()\n",
    "mean_dg_B = scores_dg_B.mean()\n",
    "\n",
    "print (\"Breast cancer score mean is: %f\" % mean_bc_B)\n",
    "print (\"Digits score mean is: %f\" % mean_dg_B)"
   ]
  },
  {
   "cell_type": "markdown",
   "metadata": {},
   "source": [
    "## Multinomial classifier"
   ]
  },
  {
   "cell_type": "code",
   "execution_count": 70,
   "metadata": {
    "collapsed": false
   },
   "outputs": [
    {
     "name": "stdout",
     "output_type": "stream",
     "text": [
      "Breast cancer score mean is: 0.894579\n",
      "Digits score mean is: 0.870877\n"
     ]
    }
   ],
   "source": [
    "scores_bc_M = cross_val_score(classifier_Multinomial, data_bc.data, data_bc.target)\n",
    "scores_dg_M = cross_val_score(classifier_Multinomial, data_dg.data, data_dg.target)\n",
    "\n",
    "mean_bc_M = scores_bc_M.mean()\n",
    "mean_dg_M = scores_dg_M.mean()\n",
    "\n",
    "print (\"Breast cancer score mean is: %f\" % mean_bc_M)\n",
    "print (\"Digits score mean is: %f\" % mean_dg_M)"
   ]
  },
  {
   "cell_type": "markdown",
   "metadata": {},
   "source": [
    "## Gaussian classifier"
   ]
  },
  {
   "cell_type": "code",
   "execution_count": 71,
   "metadata": {
    "collapsed": false
   },
   "outputs": [
    {
     "name": "stdout",
     "output_type": "stream",
     "text": [
      "Breast cancer score mean is: 0.936749\n",
      "Digits score mean is: 0.818600\n"
     ]
    }
   ],
   "source": [
    "scores_bc_G = cross_val_score(classifier_Gaussian, data_bc.data, data_bc.target)\n",
    "scores_dg_G = cross_val_score(classifier_Gaussian, data_dg.data, data_dg.target)\n",
    "\n",
    "mean_bc_G = scores_bc_G.mean()\n",
    "mean_dg_G = scores_dg_G.mean()\n",
    "\n",
    "print (\"Breast cancer score mean is: %f\" % mean_bc_G)\n",
    "print (\"Digits score mean is: %f\" % mean_dg_G)"
   ]
  },
  {
   "cell_type": "markdown",
   "metadata": {},
   "source": [
    "## Answers"
   ]
  },
  {
   "cell_type": "code",
   "execution_count": 74,
   "metadata": {
    "collapsed": false
   },
   "outputs": [],
   "source": [
    "write_answer(max(mean_bc_B, mean_bc_G, mean_bc_M),1)\n",
    "write_answer(max(mean_dg_B, mean_dg_G, mean_dg_M),2)\n",
    "write_answer(\"3 4\",3)"
   ]
  },
  {
   "cell_type": "code",
   "execution_count": null,
   "metadata": {
    "collapsed": true
   },
   "outputs": [],
   "source": []
  }
 ],
 "metadata": {
  "anaconda-cloud": {},
  "kernelspec": {
   "display_name": "Python [Root]",
   "language": "python",
   "name": "Python [Root]"
  },
  "language_info": {
   "codemirror_mode": {
    "name": "ipython",
    "version": 2
   },
   "file_extension": ".py",
   "mimetype": "text/x-python",
   "name": "python",
   "nbconvert_exporter": "python",
   "pygments_lexer": "ipython2",
   "version": "2.7.12"
  }
 },
 "nbformat": 4,
 "nbformat_minor": 0
}
