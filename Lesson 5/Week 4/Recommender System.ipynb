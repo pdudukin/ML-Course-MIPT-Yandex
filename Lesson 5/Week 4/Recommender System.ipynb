{
 "cells": [
  {
   "cell_type": "code",
   "execution_count": 4,
   "metadata": {
    "collapsed": true
   },
   "outputs": [],
   "source": [
    "import numpy as np\n",
    "import pandas as pd"
   ]
  },
  {
   "cell_type": "markdown",
   "metadata": {},
   "source": [
    "Рекомендации по частоте просмотров товаров - качество на обучающей выборке:\n",
    "1 points\n",
    "views_popularity_train.txt\n",
    "Рекомендации по частоте просмотров товаров - качество на тестовой выборке:\n",
    "1 points\n",
    "views_popularity_test..txt\n",
    "Рекомендации по частоте покупок товаров - качество на обучающей выборке:\n",
    "1 points\n",
    "purchases_popularity_train.txt\n",
    "Рекомендации по частоте покупок товаров - качество на тестовой выборке:\n",
    "1 points\n",
    "purchases_popularity_test.txt"
   ]
  },
  {
   "cell_type": "code",
   "execution_count": 5,
   "metadata": {},
   "outputs": [],
   "source": [
    "data_train = []\n",
    "data_test = []"
   ]
  },
  {
   "cell_type": "code",
   "execution_count": 6,
   "metadata": {},
   "outputs": [],
   "source": [
    "def read_data(filename):\n",
    "    data = []\n",
    "    for line in open(filename).readlines():\n",
    "        view, buy = line.split(';')\n",
    "        view = view.strip()\n",
    "        buy = buy.strip()\n",
    "        if view:\n",
    "            view = list(map(int, view.split(',')))\n",
    "        else:\n",
    "            view = []\n",
    "        if buy:\n",
    "            buy = list(map(int, buy.split(',')))\n",
    "        else:\n",
    "            buy = []\n",
    "        data.append([view, buy])\n",
    "    return data"
   ]
  },
  {
   "cell_type": "code",
   "execution_count": 7,
   "metadata": {},
   "outputs": [],
   "source": [
    "data_train = read_data('coursera_sessions_train.txt')\n",
    "data_test = read_data('coursera_sessions_test.txt')"
   ]
  },
  {
   "cell_type": "code",
   "execution_count": 8,
   "metadata": {},
   "outputs": [],
   "source": [
    "popularity_view = {}\n",
    "popularity_buy = {}\n",
    "for session in data_train:\n",
    "    for item in session[0]:\n",
    "        if item in popularity_view:\n",
    "            popularity_view[item] += 1\n",
    "        else:\n",
    "            popularity_view[item] = 1\n",
    "    for item in session[1]:\n",
    "        if item in popularity_buy:\n",
    "            popularity_buy[item] += 1\n",
    "        else:\n",
    "            popularity_buy[item] = 1\n",
    "keys = list(set(popularity_buy.keys()) | set(popularity_view.keys()))\n",
    "for key in keys:\n",
    "    if key not in popularity_view:\n",
    "        popularity_view[key] = 0\n",
    "    if key not in popularity_buy:\n",
    "        popularity_buy[key] = 0"
   ]
  },
  {
   "cell_type": "code",
   "execution_count": 9,
   "metadata": {
    "collapsed": true
   },
   "outputs": [],
   "source": [
    "def get_pop_view(x):\n",
    "    if x in popularity_view:\n",
    "        return popularity_view[x]\n",
    "    else:\n",
    "        return 0\n",
    "def get_pop_buy(x):\n",
    "    if x in popularity_buy:\n",
    "        return popularity_buy[x]\n",
    "    else:\n",
    "        return 0"
   ]
  },
  {
   "cell_type": "code",
   "execution_count": 10,
   "metadata": {
    "collapsed": true
   },
   "outputs": [],
   "source": [
    "def uniquifier(seq):\n",
    "    seen = set()\n",
    "    seen_add = seen.add\n",
    "    return [x for x in seq if not (x in seen or seen_add(x))]"
   ]
  },
  {
   "cell_type": "code",
   "execution_count": 11,
   "metadata": {
    "collapsed": true
   },
   "outputs": [],
   "source": [
    "def recommend_view(uniq):\n",
    "    return sorted(uniq, key=get_pop_view, reverse=True)\n",
    "def recommend_buy(uniq):\n",
    "    return sorted(uniq, key=get_pop_buy, reverse=True)"
   ]
  },
  {
   "cell_type": "code",
   "execution_count": 12,
   "metadata": {},
   "outputs": [
    {
     "data": {
      "text/plain": [
       "[8, 17, 5, 3, 24]"
      ]
     },
     "execution_count": 12,
     "metadata": {},
     "output_type": "execute_result"
    }
   ],
   "source": [
    "x = [3, 5, 8, 17, 24]\n",
    "recommend_buy(x)"
   ]
  },
  {
   "cell_type": "code",
   "execution_count": 13,
   "metadata": {},
   "outputs": [
    {
     "data": {
      "text/plain": [
       "[1526, 552, 2710]"
      ]
     },
     "execution_count": 13,
     "metadata": {},
     "output_type": "execute_result"
    }
   ],
   "source": [
    "x = [1526, 552, 2710, 552, 2710, 552, 2710, 552, 2710, 552, 1526]\n",
    "recommend_buy(uniquifier(x))"
   ]
  },
  {
   "cell_type": "code",
   "execution_count": 14,
   "metadata": {},
   "outputs": [],
   "source": [
    "def precision(rec, y, k):\n",
    "    return sum([y[i] in rec[:k] for i in range(len(y))])/k\n",
    "def recall(rec, y, k):\n",
    "    return sum([y[i] in rec[:k] for i in range(len(y))])/len(y)"
   ]
  },
  {
   "cell_type": "raw",
   "metadata": {},
   "source": [
    "# THIS IS WRONG\n",
    "def precision(rec, y, k):\n",
    "    return sum([y[i] in rec[:k] for i in range(len(y))])/k\n",
    "def recall(rec, y, k):\n",
    "    return sum([rec[i] in y for i in range(min(len(rec), k))])/k"
   ]
  },
  {
   "cell_type": "raw",
   "metadata": {},
   "source": [
    "# this is unused\n",
    "def get_1_5_metrics(rec, y):\n",
    "    return precision(rec, y, 1), precision(rec, y, 5), recall(rec, y, 1), recall(rec, y, 5)"
   ]
  },
  {
   "cell_type": "code",
   "execution_count": null,
   "metadata": {
    "collapsed": true
   },
   "outputs": [],
   "source": []
  },
  {
   "cell_type": "code",
   "execution_count": null,
   "metadata": {
    "collapsed": true
   },
   "outputs": [],
   "source": []
  },
  {
   "cell_type": "code",
   "execution_count": 15,
   "metadata": {},
   "outputs": [
    {
     "name": "stdout",
     "output_type": "stream",
     "text": [
      "(0, 0, 0, 0)\n"
     ]
    }
   ],
   "source": [
    "sess_count = 0\n",
    "av_prec_1 = 0\n",
    "av_prec_5 = 0\n",
    "av_rec_1 = 0\n",
    "av_rec_5 = 0\n",
    "for session in data_train:\n",
    "    if not session[1]:\n",
    "        continue\n",
    "    sess_count += 1\n",
    "    rec = recommend_view(uniquifier(session[0]))\n",
    "    av_prec_1 += precision(rec, session[1], 1)\n",
    "    av_prec_5 += precision(rec, session[1], 5)\n",
    "    av_rec_1 += recall(rec, session[1], 1)\n",
    "    av_rec_5 += recall(rec, session[1], 5)\n",
    "av_prec_1 = av_prec_1/sess_count\n",
    "av_prec_5 = av_prec_5/sess_count\n",
    "av_rec_1 = av_rec_1/sess_count\n",
    "av_rec_5 = av_rec_5/sess_count\n",
    "print(av_rec_1, av_prec_1, av_rec_5, av_prec_5)"
   ]
  },
  {
   "cell_type": "code",
   "execution_count": null,
   "metadata": {
    "collapsed": true
   },
   "outputs": [],
   "source": []
  },
  {
   "cell_type": "code",
   "execution_count": 16,
   "metadata": {},
   "outputs": [
    {
     "name": "stdout",
     "output_type": "stream",
     "text": [
      "(0, 0, 0, 0)\n"
     ]
    }
   ],
   "source": [
    "sess_count = 0\n",
    "av_prec_1 = 0\n",
    "av_prec_5 = 0\n",
    "av_rec_1 = 0\n",
    "av_rec_5 = 0\n",
    "for session in data_test:\n",
    "    if not session[1]:\n",
    "        continue\n",
    "    sess_count += 1\n",
    "    rec = recommend_view(uniquifier(session[0]))\n",
    "    av_prec_1 += precision(rec, session[1], 1)\n",
    "    av_prec_5 += precision(rec, session[1], 5)\n",
    "    av_rec_1 += recall(rec, session[1], 1)\n",
    "    av_rec_5 += recall(rec, session[1], 5)\n",
    "av_prec_1 = av_prec_1/sess_count\n",
    "av_prec_5 = av_prec_5/sess_count\n",
    "av_rec_1 = av_rec_1/sess_count\n",
    "av_rec_5 = av_rec_5/sess_count\n",
    "print(av_rec_1, av_prec_1, av_rec_5, av_prec_5)"
   ]
  },
  {
   "cell_type": "code",
   "execution_count": null,
   "metadata": {
    "collapsed": true
   },
   "outputs": [],
   "source": []
  },
  {
   "cell_type": "code",
   "execution_count": 17,
   "metadata": {},
   "outputs": [
    {
     "name": "stdout",
     "output_type": "stream",
     "text": [
      "(0, 0, 0, 0)\n"
     ]
    }
   ],
   "source": [
    "sess_count = 0\n",
    "av_prec_1 = 0\n",
    "av_prec_5 = 0\n",
    "av_rec_1 = 0\n",
    "av_rec_5 = 0\n",
    "for session in data_train:\n",
    "    if not session[1]:\n",
    "        continue\n",
    "    sess_count += 1\n",
    "    rec = recommend_buy(uniquifier(session[0]))\n",
    "    av_prec_1 += precision(rec, session[1], 1)\n",
    "    av_prec_5 += precision(rec, session[1], 5)\n",
    "    av_rec_1 += recall(rec, session[1], 1)\n",
    "    av_rec_5 += recall(rec, session[1], 5)\n",
    "av_prec_1 = av_prec_1/sess_count\n",
    "av_prec_5 = av_prec_5/sess_count\n",
    "av_rec_1 = av_rec_1/sess_count\n",
    "av_rec_5 = av_rec_5/sess_count\n",
    "print(av_rec_1, av_prec_1, av_rec_5, av_prec_5)"
   ]
  },
  {
   "cell_type": "code",
   "execution_count": null,
   "metadata": {
    "collapsed": true
   },
   "outputs": [],
   "source": []
  },
  {
   "cell_type": "code",
   "execution_count": 18,
   "metadata": {},
   "outputs": [
    {
     "name": "stdout",
     "output_type": "stream",
     "text": [
      "(0, 0, 0, 0)\n"
     ]
    }
   ],
   "source": [
    "sess_count = 0\n",
    "av_prec_1 = 0\n",
    "av_prec_5 = 0\n",
    "av_rec_1 = 0\n",
    "av_rec_5 = 0\n",
    "for session in data_test:\n",
    "    if not session[1]:\n",
    "        continue\n",
    "    sess_count += 1\n",
    "    rec = recommend_buy(uniquifier(session[0]))\n",
    "    av_prec_1 += precision(rec, session[1], 1)\n",
    "    av_prec_5 += precision(rec, session[1], 5)\n",
    "    av_rec_1 += recall(rec, session[1], 1)\n",
    "    av_rec_5 += recall(rec, session[1], 5)\n",
    "av_prec_1 = av_prec_1/sess_count\n",
    "av_prec_5 = av_prec_5/sess_count\n",
    "av_rec_1 = av_rec_1/sess_count\n",
    "av_rec_5 = av_rec_5/sess_count\n",
    "print(av_rec_1, av_prec_1, av_rec_5, av_prec_5)"
   ]
  },
  {
   "cell_type": "code",
   "execution_count": null,
   "metadata": {
    "collapsed": true
   },
   "outputs": [],
   "source": []
  },
  {
   "cell_type": "code",
   "execution_count": null,
   "metadata": {
    "collapsed": true
   },
   "outputs": [],
   "source": []
  },
  {
   "cell_type": "code",
   "execution_count": null,
   "metadata": {
    "collapsed": true
   },
   "outputs": [],
   "source": []
  },
  {
   "cell_type": "code",
   "execution_count": 19,
   "metadata": {},
   "outputs": [
    {
     "name": "stdout",
     "output_type": "stream",
     "text": [
      "(0, 0, 0, 0)\n"
     ]
    }
   ],
   "source": [
    "print(av_rec_1, av_prec_1, av_rec_5, av_prec_5)"
   ]
  },
  {
   "cell_type": "code",
   "execution_count": 20,
   "metadata": {},
   "outputs": [
    {
     "data": {
      "text/plain": [
       "[59, 60, 61, 62, 63, 64, 65, 66, 67, 68]"
      ]
     },
     "execution_count": 20,
     "metadata": {},
     "output_type": "execute_result"
    }
   ],
   "source": [
    "uniquifier([59, 60, 61, 62, 60, 63, 64, 65, 66, 61, 67, 68, 67])"
   ]
  },
  {
   "cell_type": "code",
   "execution_count": 21,
   "metadata": {},
   "outputs": [
    {
     "data": {
      "text/plain": [
       "[63, 64, 60, 61, 65, 66, 67, 68, 59, 62]"
      ]
     },
     "execution_count": 21,
     "metadata": {},
     "output_type": "execute_result"
    }
   ],
   "source": [
    "recommend_view([59, 60, 61, 62, 63, 64, 65, 66, 67, 68])"
   ]
  },
  {
   "cell_type": "code",
   "execution_count": 22,
   "metadata": {},
   "outputs": [
    {
     "data": {
      "text/plain": [
       "1"
      ]
     },
     "execution_count": 22,
     "metadata": {},
     "output_type": "execute_result"
    }
   ],
   "source": [
    "precision([63, 64, 60, 61, 65, 66, 67, 68, 59, 62], [67, 60, 63], 1)"
   ]
  },
  {
   "cell_type": "code",
   "execution_count": 23,
   "metadata": {},
   "outputs": [
    {
     "data": {
      "text/plain": [
       "0"
      ]
     },
     "execution_count": 23,
     "metadata": {},
     "output_type": "execute_result"
    }
   ],
   "source": [
    "recall([63, 64, 60, 61, 65, 66, 67, 68, 59, 62], [67, 60, 63], 1)"
   ]
  },
  {
   "cell_type": "code",
   "execution_count": 24,
   "metadata": {},
   "outputs": [
    {
     "data": {
      "text/plain": [
       "0"
      ]
     },
     "execution_count": 24,
     "metadata": {},
     "output_type": "execute_result"
    }
   ],
   "source": [
    "precision([63, 64, 60, 61, 65, 66, 67, 68, 59, 62], [67, 60, 63], 5)"
   ]
  },
  {
   "cell_type": "code",
   "execution_count": 25,
   "metadata": {},
   "outputs": [
    {
     "data": {
      "text/plain": [
       "0"
      ]
     },
     "execution_count": 25,
     "metadata": {},
     "output_type": "execute_result"
    }
   ],
   "source": [
    "recall([63, 64, 60, 61, 65, 66, 67, 68, 59, 62], [67, 60, 63], 5)"
   ]
  },
  {
   "cell_type": "code",
   "execution_count": 26,
   "metadata": {},
   "outputs": [
    {
     "name": "stdout",
     "output_type": "stream",
     "text": [
      "3\n"
     ]
    }
   ],
   "source": [
    "if not []:\n",
    "    print(3)"
   ]
  },
  {
   "cell_type": "code",
   "execution_count": 27,
   "metadata": {},
   "outputs": [
    {
     "data": {
      "text/plain": [
       "2"
      ]
     },
     "execution_count": 27,
     "metadata": {},
     "output_type": "execute_result"
    }
   ],
   "source": [
    "z = [True, False, True]\n",
    "sum(z)"
   ]
  },
  {
   "cell_type": "code",
   "execution_count": 28,
   "metadata": {},
   "outputs": [
    {
     "data": {
      "text/plain": [
       "{0, 1, 2, 3, 5, 7, 9}"
      ]
     },
     "execution_count": 28,
     "metadata": {},
     "output_type": "execute_result"
    }
   ],
   "source": [
    "a = [1, 2, 5, 5, 3, 3, 7, 9, 0]\n",
    "set(a)"
   ]
  },
  {
   "cell_type": "code",
   "execution_count": null,
   "metadata": {
    "collapsed": true
   },
   "outputs": [],
   "source": []
  },
  {
   "cell_type": "code",
   "execution_count": null,
   "metadata": {
    "collapsed": true
   },
   "outputs": [],
   "source": []
  }
 ],
 "metadata": {
  "anaconda-cloud": {},
  "kernelspec": {
   "display_name": "Python 3",
   "language": "python",
   "name": "python3"
  },
  "language_info": {
   "codemirror_mode": {
    "name": "ipython",
    "version": 3
   },
   "file_extension": ".py",
   "mimetype": "text/x-python",
   "name": "python",
   "nbconvert_exporter": "python",
   "pygments_lexer": "ipython3",
   "version": "3.5.2"
  }
 },
 "nbformat": 4,
 "nbformat_minor": 2
}
