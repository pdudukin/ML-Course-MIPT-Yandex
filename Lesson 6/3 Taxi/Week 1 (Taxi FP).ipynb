{
 "cells": [
  {
   "cell_type": "markdown",
   "metadata": {},
   "source": [
    "## General variable Information"
   ]
  },
  {
   "cell_type": "markdown",
   "metadata": {},
   "source": [
    "    1. VendorID - A code indicating the TPEP provider that provided the  record. [ 1= Creative Mobile Technologies, LLC; 2= VeriFone Inc. ]\n",
    "  \n",
    "    2. tpep_pickup_datetime - The date and time when the meter was engaged.\n",
    "    \n",
    "    3. tpep_dropoff_datetime - The date and time when the meter was disengaged.\n",
    "    \n",
    "    4. Passenger_count - The number of passengers in the vehicle. This is a driver-entered value.\n",
    "    \n",
    "    5. Trip_distance - The elapsed trip distance in miles reported by the taximeter.\n",
    "    \n",
    "    6. Pickup_longitude - Longitude where the meter was engaged.\n",
    "    \n",
    "    7. Pickup_latitude - Latitude where the meter was engaged.\n",
    "    \n",
    "    8. RateCodeID - The final rate code in effect at the end of the trip. [ 1= Standard rate, 2=JFK, 3=Newark, 4=Nassau or Westchester, 5=Negotiated fare, 6=Group ride ]\n",
    "    \n",
    "    9. Store_and_fwd_flag - This flag indicates whether the trip record was held in vehicle memory before sending to the vendor, aka “store and forward,” because the vehicle did not have a connection to the server. [ Y= store and forward trip, N= not a store and forward trip ]\n",
    "    \n",
    "    10. Dropoff_longitude - Longitude where the meter was disengaged.\n",
    "    \n",
    "    11. Dropoff_ latitude - Latitude where the meter was disengaged.\n",
    "    \n",
    "    12. Payment_type - A numeric code signifying how the passenger paid for the trip. [ 1= Credit card, 2= Cash, 3= No charge, 4= Dispute, 5= Unknown, 6= Voided trip ]\n",
    "    \n",
    "    13. Fare_amount - The time-and-distance fare calculated by the meter.\n",
    "    \n",
    "    14. Extra - Miscellaneous extras and surcharges. Currently, this only includes the $0.50 and $1 rush hour and overnight charges.\n",
    "\n",
    "    15. MTA_tax - $0.50 MTA tax that is automatically triggered based on the metered rate in use.\n",
    "    \n",
    "    16. Improvement_surcharge - $0.30 improvement surcharge assessed trips at the flag drop. The improvement surcharge began being levied in 2015.\n",
    "    \n",
    "    17. Tip_amount - This field is automatically populated for credit card tips. Cash tips are not included.\n",
    "    \n",
    "    18. Tolls_amount - Total amount of all tolls paid in trip.\n",
    "\n",
    "    19. Total_amount - The total amount charged to passengers. Does not include cash tips."
   ]
  },
  {
   "cell_type": "markdown",
   "metadata": {},
   "source": [
    "## Week 1. Solution."
   ]
  },
  {
   "cell_type": "code",
   "execution_count": 41,
   "metadata": {
    "collapsed": true
   },
   "outputs": [],
   "source": [
    "import numpy as np\n",
    "import pandas as pd"
   ]
  },
  {
   "cell_type": "markdown",
   "metadata": {},
   "source": [
    "#### 1. Загрузите данные за май 2016 года."
   ]
  },
  {
   "cell_type": "code",
   "execution_count": 42,
   "metadata": {},
   "outputs": [
    {
     "data": {
      "text/html": [
       "<div>\n",
       "<table border=\"1\" class=\"dataframe\">\n",
       "  <thead>\n",
       "    <tr style=\"text-align: right;\">\n",
       "      <th></th>\n",
       "      <th>region</th>\n",
       "      <th>west</th>\n",
       "      <th>east</th>\n",
       "      <th>south</th>\n",
       "      <th>north</th>\n",
       "    </tr>\n",
       "  </thead>\n",
       "  <tbody>\n",
       "    <tr>\n",
       "      <th>0</th>\n",
       "      <td>1</td>\n",
       "      <td>-74.25559</td>\n",
       "      <td>-74.244478</td>\n",
       "      <td>40.496120</td>\n",
       "      <td>40.504508</td>\n",
       "    </tr>\n",
       "    <tr>\n",
       "      <th>1</th>\n",
       "      <td>2</td>\n",
       "      <td>-74.25559</td>\n",
       "      <td>-74.244478</td>\n",
       "      <td>40.504508</td>\n",
       "      <td>40.512896</td>\n",
       "    </tr>\n",
       "    <tr>\n",
       "      <th>2</th>\n",
       "      <td>3</td>\n",
       "      <td>-74.25559</td>\n",
       "      <td>-74.244478</td>\n",
       "      <td>40.512896</td>\n",
       "      <td>40.521285</td>\n",
       "    </tr>\n",
       "    <tr>\n",
       "      <th>3</th>\n",
       "      <td>4</td>\n",
       "      <td>-74.25559</td>\n",
       "      <td>-74.244478</td>\n",
       "      <td>40.521285</td>\n",
       "      <td>40.529673</td>\n",
       "    </tr>\n",
       "    <tr>\n",
       "      <th>4</th>\n",
       "      <td>5</td>\n",
       "      <td>-74.25559</td>\n",
       "      <td>-74.244478</td>\n",
       "      <td>40.529673</td>\n",
       "      <td>40.538061</td>\n",
       "    </tr>\n",
       "  </tbody>\n",
       "</table>\n",
       "</div>"
      ],
      "text/plain": [
       "   region      west       east      south      north\n",
       "0       1 -74.25559 -74.244478  40.496120  40.504508\n",
       "1       2 -74.25559 -74.244478  40.504508  40.512896\n",
       "2       3 -74.25559 -74.244478  40.512896  40.521285\n",
       "3       4 -74.25559 -74.244478  40.521285  40.529673\n",
       "4       5 -74.25559 -74.244478  40.529673  40.538061"
      ]
     },
     "execution_count": 42,
     "metadata": {},
     "output_type": "execute_result"
    }
   ],
   "source": [
    "regions = pd.read_csv(\"regions.csv\", sep=\";\")\n",
    "regions.head()"
   ]
  },
  {
   "cell_type": "code",
   "execution_count": 43,
   "metadata": {},
   "outputs": [],
   "source": [
    "data_05_2016_raw = pd.read_csv('D:/Data/yellow_tripdata_2016-05.csv')"
   ]
  },
  {
   "cell_type": "code",
   "execution_count": 44,
   "metadata": {
    "collapsed": true
   },
   "outputs": [],
   "source": [
    "pickup_hour = [data_05_2016_raw['tpep_pickup_datetime'][i][11:13] for i in data_05_2016_raw.index]"
   ]
  },
  {
   "cell_type": "code",
   "execution_count": 45,
   "metadata": {
    "collapsed": true
   },
   "outputs": [],
   "source": [
    "data_05_2016_raw.insert(1, 'pickup_hour', pickup_hour)\n",
    "data_05_2016_raw.insert(2, 'count', [1]*data_05_2016_raw.shape[0]) # добавим столбец из единиц для последующего аггрегирования"
   ]
  },
  {
   "cell_type": "markdown",
   "metadata": {},
   "source": [
    "#### 2. Проведите фильтрацию: удалите поездки с\n",
    "\n",
    "    1) нулевой длительностью\n",
    "    2) нулевым количеством пассажиров\n",
    "    3) нулевым расстоянием поездки по счётчику\n",
    "    4) координатами начала, не попадающими в прямоугольник Нью-Йорка"
   ]
  },
  {
   "cell_type": "code",
   "execution_count": 46,
   "metadata": {
    "collapsed": true
   },
   "outputs": [],
   "source": [
    "data_05_2016 = data_05_2016_raw[(data_05_2016_raw.trip_distance>0.0) & (data_05_2016_raw.passenger_count>0) &\n",
    "                                (data_05_2016_raw.fare_amount>0.0) & \n",
    "                                (-74.25559<data_05_2016_raw.pickup_longitude) & (data_05_2016_raw.pickup_longitude<-73.70001) &\n",
    "                                (40.49612<data_05_2016_raw.pickup_latitude) & (data_05_2016_raw.pickup_latitude<40.91553)]"
   ]
  },
  {
   "cell_type": "markdown",
   "metadata": {},
   "source": [
    "#### 3. Агрегируйте данные за май 2016 года по часам и областям (можно использовать функцию stats.binned_statistic_2d, с которой вы сталкивались в заданиях четвёртого курса). Не забудьте проверить, что идентификаторы, которые вы присваиваете ячейкам, соответствуют приложенному выше файлу."
   ]
  },
  {
   "cell_type": "code",
   "execution_count": 47,
   "metadata": {},
   "outputs": [
    {
     "name": "stderr",
     "output_type": "stream",
     "text": [
      "C:\\Users\\PDudukin\\AppData\\Local\\Continuum\\Anaconda2\\lib\\site-packages\\ipykernel\\__main__.py:15: SettingWithCopyWarning: \n",
      "A value is trying to be set on a copy of a slice from a DataFrame.\n",
      "Try using .loc[row_indexer,col_indexer] = value instead\n",
      "\n",
      "See the caveats in the documentation: http://pandas.pydata.org/pandas-docs/stable/indexing.html#indexing-view-versus-copy\n"
     ]
    }
   ],
   "source": [
    "class set_region():\n",
    "    west_borders = -74.25559 # left\n",
    "    east_borders = -73.70001 # right\n",
    "    south_borders = 40.49612 # bottom\n",
    "    north_borders = 40.91553 # up\n",
    "\n",
    "    intervals_cnt = 50\n",
    "    regions_cnt = intervals_cnt*intervals_cnt\n",
    "    dx = (east_borders-west_borders)/intervals_cnt\n",
    "    dy = (north_borders-south_borders)/intervals_cnt    \n",
    "    \n",
    "region_x = ((data_05_2016.pickup_longitude-set_region.west_borders)/set_region.dx).astype(np.int)\n",
    "region_y = ((data_05_2016.pickup_latitude-set_region.south_borders)/set_region.dy).astype(np.int)\n",
    "region_id = region_x*set_region.intervals_cnt+region_y+1\n",
    "data_05_2016['region'] = region_id"
   ]
  },
  {
   "cell_type": "code",
   "execution_count": 70,
   "metadata": {},
   "outputs": [
    {
     "data": {
      "text/html": [
       "<div>\n",
       "<table border=\"1\" class=\"dataframe\">\n",
       "  <thead>\n",
       "    <tr style=\"text-align: right;\">\n",
       "      <th></th>\n",
       "      <th>region</th>\n",
       "      <th>pickup_hour</th>\n",
       "      <th>count</th>\n",
       "    </tr>\n",
       "  </thead>\n",
       "  <tbody>\n",
       "  </tbody>\n",
       "</table>\n",
       "</div>"
      ],
      "text/plain": [
       "Empty DataFrame\n",
       "Columns: [region, pickup_hour, count]\n",
       "Index: []"
      ]
     },
     "execution_count": 70,
     "metadata": {},
     "output_type": "execute_result"
    }
   ],
   "source": [
    "data_05_2016[(data_05_2016.region<1) | (data_05_2016.region>2500)] # check"
   ]
  },
  {
   "cell_type": "markdown",
   "metadata": {},
   "source": [
    "#### 4. Выведите первые строки полученной таблицы с указанием времени, идентификатора зоны и количества поездок."
   ]
  },
  {
   "cell_type": "code",
   "execution_count": 49,
   "metadata": {},
   "outputs": [
    {
     "data": {
      "text/html": [
       "<div>\n",
       "<table border=\"1\" class=\"dataframe\">\n",
       "  <thead>\n",
       "    <tr style=\"text-align: right;\">\n",
       "      <th></th>\n",
       "      <th>VendorID</th>\n",
       "      <th>pickup_hour</th>\n",
       "      <th>count</th>\n",
       "      <th>tpep_pickup_datetime</th>\n",
       "      <th>tpep_dropoff_datetime</th>\n",
       "      <th>passenger_count</th>\n",
       "      <th>trip_distance</th>\n",
       "      <th>pickup_longitude</th>\n",
       "      <th>pickup_latitude</th>\n",
       "      <th>RatecodeID</th>\n",
       "      <th>...</th>\n",
       "      <th>dropoff_latitude</th>\n",
       "      <th>payment_type</th>\n",
       "      <th>fare_amount</th>\n",
       "      <th>extra</th>\n",
       "      <th>mta_tax</th>\n",
       "      <th>tip_amount</th>\n",
       "      <th>tolls_amount</th>\n",
       "      <th>improvement_surcharge</th>\n",
       "      <th>total_amount</th>\n",
       "      <th>region</th>\n",
       "    </tr>\n",
       "  </thead>\n",
       "  <tbody>\n",
       "    <tr>\n",
       "      <th>0</th>\n",
       "      <td>1</td>\n",
       "      <td>00</td>\n",
       "      <td>1</td>\n",
       "      <td>2016-05-01 00:00:00</td>\n",
       "      <td>2016-05-01 00:17:31</td>\n",
       "      <td>1</td>\n",
       "      <td>3.60</td>\n",
       "      <td>-73.985901</td>\n",
       "      <td>40.768040</td>\n",
       "      <td>1</td>\n",
       "      <td>...</td>\n",
       "      <td>40.730099</td>\n",
       "      <td>1</td>\n",
       "      <td>15.0</td>\n",
       "      <td>0.5</td>\n",
       "      <td>0.5</td>\n",
       "      <td>1.50</td>\n",
       "      <td>0.0</td>\n",
       "      <td>0.3</td>\n",
       "      <td>17.80</td>\n",
       "      <td>1233</td>\n",
       "    </tr>\n",
       "    <tr>\n",
       "      <th>1</th>\n",
       "      <td>2</td>\n",
       "      <td>00</td>\n",
       "      <td>1</td>\n",
       "      <td>2016-05-01 00:00:00</td>\n",
       "      <td>2016-05-01 00:07:31</td>\n",
       "      <td>1</td>\n",
       "      <td>1.68</td>\n",
       "      <td>-73.991577</td>\n",
       "      <td>40.744751</td>\n",
       "      <td>1</td>\n",
       "      <td>...</td>\n",
       "      <td>40.765469</td>\n",
       "      <td>1</td>\n",
       "      <td>7.5</td>\n",
       "      <td>0.5</td>\n",
       "      <td>0.5</td>\n",
       "      <td>0.88</td>\n",
       "      <td>0.0</td>\n",
       "      <td>0.3</td>\n",
       "      <td>9.68</td>\n",
       "      <td>1180</td>\n",
       "    </tr>\n",
       "    <tr>\n",
       "      <th>2</th>\n",
       "      <td>2</td>\n",
       "      <td>00</td>\n",
       "      <td>1</td>\n",
       "      <td>2016-05-01 00:00:00</td>\n",
       "      <td>2016-05-01 00:07:01</td>\n",
       "      <td>6</td>\n",
       "      <td>1.09</td>\n",
       "      <td>-73.993073</td>\n",
       "      <td>40.741573</td>\n",
       "      <td>1</td>\n",
       "      <td>...</td>\n",
       "      <td>40.744633</td>\n",
       "      <td>1</td>\n",
       "      <td>6.5</td>\n",
       "      <td>0.5</td>\n",
       "      <td>0.5</td>\n",
       "      <td>1.56</td>\n",
       "      <td>0.0</td>\n",
       "      <td>0.3</td>\n",
       "      <td>9.36</td>\n",
       "      <td>1180</td>\n",
       "    </tr>\n",
       "    <tr>\n",
       "      <th>3</th>\n",
       "      <td>2</td>\n",
       "      <td>00</td>\n",
       "      <td>1</td>\n",
       "      <td>2016-05-01 00:00:00</td>\n",
       "      <td>2016-05-01 00:19:47</td>\n",
       "      <td>1</td>\n",
       "      <td>4.21</td>\n",
       "      <td>-73.991943</td>\n",
       "      <td>40.684601</td>\n",
       "      <td>1</td>\n",
       "      <td>...</td>\n",
       "      <td>40.733002</td>\n",
       "      <td>1</td>\n",
       "      <td>17.0</td>\n",
       "      <td>0.5</td>\n",
       "      <td>0.5</td>\n",
       "      <td>3.66</td>\n",
       "      <td>0.0</td>\n",
       "      <td>0.3</td>\n",
       "      <td>21.96</td>\n",
       "      <td>1173</td>\n",
       "    </tr>\n",
       "    <tr>\n",
       "      <th>4</th>\n",
       "      <td>2</td>\n",
       "      <td>00</td>\n",
       "      <td>1</td>\n",
       "      <td>2016-05-01 00:00:00</td>\n",
       "      <td>2016-05-01 00:06:39</td>\n",
       "      <td>1</td>\n",
       "      <td>0.56</td>\n",
       "      <td>-74.005280</td>\n",
       "      <td>40.740192</td>\n",
       "      <td>1</td>\n",
       "      <td>...</td>\n",
       "      <td>40.737564</td>\n",
       "      <td>1</td>\n",
       "      <td>6.0</td>\n",
       "      <td>0.5</td>\n",
       "      <td>0.5</td>\n",
       "      <td>1.46</td>\n",
       "      <td>0.0</td>\n",
       "      <td>0.3</td>\n",
       "      <td>8.76</td>\n",
       "      <td>1130</td>\n",
       "    </tr>\n",
       "  </tbody>\n",
       "</table>\n",
       "<p>5 rows × 22 columns</p>\n",
       "</div>"
      ],
      "text/plain": [
       "   VendorID pickup_hour  count tpep_pickup_datetime tpep_dropoff_datetime  \\\n",
       "0         1          00      1  2016-05-01 00:00:00   2016-05-01 00:17:31   \n",
       "1         2          00      1  2016-05-01 00:00:00   2016-05-01 00:07:31   \n",
       "2         2          00      1  2016-05-01 00:00:00   2016-05-01 00:07:01   \n",
       "3         2          00      1  2016-05-01 00:00:00   2016-05-01 00:19:47   \n",
       "4         2          00      1  2016-05-01 00:00:00   2016-05-01 00:06:39   \n",
       "\n",
       "   passenger_count  trip_distance  pickup_longitude  pickup_latitude  \\\n",
       "0                1           3.60        -73.985901        40.768040   \n",
       "1                1           1.68        -73.991577        40.744751   \n",
       "2                6           1.09        -73.993073        40.741573   \n",
       "3                1           4.21        -73.991943        40.684601   \n",
       "4                1           0.56        -74.005280        40.740192   \n",
       "\n",
       "   RatecodeID   ...   dropoff_latitude  payment_type  fare_amount  extra  \\\n",
       "0           1   ...          40.730099             1         15.0    0.5   \n",
       "1           1   ...          40.765469             1          7.5    0.5   \n",
       "2           1   ...          40.744633             1          6.5    0.5   \n",
       "3           1   ...          40.733002             1         17.0    0.5   \n",
       "4           1   ...          40.737564             1          6.0    0.5   \n",
       "\n",
       "   mta_tax  tip_amount  tolls_amount  improvement_surcharge  total_amount  \\\n",
       "0      0.5        1.50           0.0                    0.3         17.80   \n",
       "1      0.5        0.88           0.0                    0.3          9.68   \n",
       "2      0.5        1.56           0.0                    0.3          9.36   \n",
       "3      0.5        3.66           0.0                    0.3         21.96   \n",
       "4      0.5        1.46           0.0                    0.3          8.76   \n",
       "\n",
       "   region  \n",
       "0    1233  \n",
       "1    1180  \n",
       "2    1180  \n",
       "3    1173  \n",
       "4    1130  \n",
       "\n",
       "[5 rows x 22 columns]"
      ]
     },
     "execution_count": 49,
     "metadata": {},
     "output_type": "execute_result"
    }
   ],
   "source": [
    "data_05_2016.head()"
   ]
  },
  {
   "cell_type": "code",
   "execution_count": 50,
   "metadata": {},
   "outputs": [],
   "source": [
    "data_05_2016 = data_05_2016.iloc[:][['region','pickup_hour', 'count']]"
   ]
  },
  {
   "cell_type": "code",
   "execution_count": 51,
   "metadata": {},
   "outputs": [
    {
     "data": {
      "text/html": [
       "<div>\n",
       "<table border=\"1\" class=\"dataframe\">\n",
       "  <thead>\n",
       "    <tr style=\"text-align: right;\">\n",
       "      <th></th>\n",
       "      <th>region</th>\n",
       "      <th>pickup_hour</th>\n",
       "      <th>count</th>\n",
       "    </tr>\n",
       "  </thead>\n",
       "  <tbody>\n",
       "    <tr>\n",
       "      <th>0</th>\n",
       "      <td>1233</td>\n",
       "      <td>00</td>\n",
       "      <td>1</td>\n",
       "    </tr>\n",
       "    <tr>\n",
       "      <th>1</th>\n",
       "      <td>1180</td>\n",
       "      <td>00</td>\n",
       "      <td>1</td>\n",
       "    </tr>\n",
       "    <tr>\n",
       "      <th>2</th>\n",
       "      <td>1180</td>\n",
       "      <td>00</td>\n",
       "      <td>1</td>\n",
       "    </tr>\n",
       "    <tr>\n",
       "      <th>3</th>\n",
       "      <td>1173</td>\n",
       "      <td>00</td>\n",
       "      <td>1</td>\n",
       "    </tr>\n",
       "    <tr>\n",
       "      <th>4</th>\n",
       "      <td>1130</td>\n",
       "      <td>00</td>\n",
       "      <td>1</td>\n",
       "    </tr>\n",
       "  </tbody>\n",
       "</table>\n",
       "</div>"
      ],
      "text/plain": [
       "   region pickup_hour  count\n",
       "0    1233          00      1\n",
       "1    1180          00      1\n",
       "2    1180          00      1\n",
       "3    1173          00      1\n",
       "4    1130          00      1"
      ]
     },
     "execution_count": 51,
     "metadata": {},
     "output_type": "execute_result"
    }
   ],
   "source": [
    "data_05_2016.head()"
   ]
  },
  {
   "cell_type": "code",
   "execution_count": 52,
   "metadata": {},
   "outputs": [],
   "source": [
    "data = data_05_2016[['region','pickup_hour', 'count']].groupby(['region','pickup_hour']).agg(['count'])"
   ]
  },
  {
   "cell_type": "code",
   "execution_count": 53,
   "metadata": {},
   "outputs": [
    {
     "data": {
      "text/html": [
       "<div>\n",
       "<table border=\"1\" class=\"dataframe\">\n",
       "  <thead>\n",
       "    <tr>\n",
       "      <th></th>\n",
       "      <th></th>\n",
       "      <th>count</th>\n",
       "    </tr>\n",
       "    <tr>\n",
       "      <th></th>\n",
       "      <th></th>\n",
       "      <th>count</th>\n",
       "    </tr>\n",
       "    <tr>\n",
       "      <th>region</th>\n",
       "      <th>pickup_hour</th>\n",
       "      <th></th>\n",
       "    </tr>\n",
       "  </thead>\n",
       "  <tbody>\n",
       "    <tr>\n",
       "      <th>15</th>\n",
       "      <th>13</th>\n",
       "      <td>1</td>\n",
       "    </tr>\n",
       "    <tr>\n",
       "      <th>16</th>\n",
       "      <th>08</th>\n",
       "      <td>1</td>\n",
       "    </tr>\n",
       "    <tr>\n",
       "      <th>25</th>\n",
       "      <th>13</th>\n",
       "      <td>1</td>\n",
       "    </tr>\n",
       "    <tr>\n",
       "      <th>27</th>\n",
       "      <th>03</th>\n",
       "      <td>1</td>\n",
       "    </tr>\n",
       "    <tr>\n",
       "      <th>32</th>\n",
       "      <th>11</th>\n",
       "      <td>1</td>\n",
       "    </tr>\n",
       "  </tbody>\n",
       "</table>\n",
       "</div>"
      ],
      "text/plain": [
       "                   count\n",
       "                   count\n",
       "region pickup_hour      \n",
       "15     13              1\n",
       "16     08              1\n",
       "25     13              1\n",
       "27     03              1\n",
       "32     11              1"
      ]
     },
     "execution_count": 53,
     "metadata": {},
     "output_type": "execute_result"
    }
   ],
   "source": [
    "data.head()"
   ]
  },
  {
   "cell_type": "markdown",
   "metadata": {},
   "source": [
    "#### 5. Постройте график количества поездок жёлтого такси из ячейки, содержащей Empire State Building."
   ]
  },
  {
   "cell_type": "code",
   "execution_count": 54,
   "metadata": {},
   "outputs": [
    {
     "name": "stdout",
     "output_type": "stream",
     "text": [
      "1231\n"
     ]
    }
   ],
   "source": [
    "# Загуглим координаты Empire State Building: 40.7484° N, 73.9857° W\n",
    "ESB_latitude = 40.7484\n",
    "ESB_longitude = 73.9857\n",
    "\n",
    "# Найдем ID соответствующего региона\n",
    "for i in range(regions['region'].shape[0]):\n",
    "    if ((regions.west[i]<-ESB_longitude<regions.east[i]) & (regions.south[i]<ESB_latitude<regions.north[i])):\n",
    "        ESB_regionID = regions.region[i]\n",
    "        print ESB_regionID\n",
    "    else:\n",
    "        continue"
   ]
  },
  {
   "cell_type": "code",
   "execution_count": 55,
   "metadata": {},
   "outputs": [],
   "source": [
    "data = data.reset_index()"
   ]
  },
  {
   "cell_type": "code",
   "execution_count": 56,
   "metadata": {},
   "outputs": [
    {
     "data": {
      "text/html": [
       "<div>\n",
       "<table border=\"1\" class=\"dataframe\">\n",
       "  <thead>\n",
       "    <tr>\n",
       "      <th></th>\n",
       "      <th>region</th>\n",
       "      <th>pickup_hour</th>\n",
       "      <th>count</th>\n",
       "    </tr>\n",
       "    <tr>\n",
       "      <th></th>\n",
       "      <th></th>\n",
       "      <th></th>\n",
       "      <th>count</th>\n",
       "    </tr>\n",
       "  </thead>\n",
       "  <tbody>\n",
       "    <tr>\n",
       "      <th>0</th>\n",
       "      <td>15</td>\n",
       "      <td>13</td>\n",
       "      <td>1</td>\n",
       "    </tr>\n",
       "    <tr>\n",
       "      <th>1</th>\n",
       "      <td>16</td>\n",
       "      <td>08</td>\n",
       "      <td>1</td>\n",
       "    </tr>\n",
       "    <tr>\n",
       "      <th>2</th>\n",
       "      <td>25</td>\n",
       "      <td>13</td>\n",
       "      <td>1</td>\n",
       "    </tr>\n",
       "    <tr>\n",
       "      <th>3</th>\n",
       "      <td>27</td>\n",
       "      <td>03</td>\n",
       "      <td>1</td>\n",
       "    </tr>\n",
       "    <tr>\n",
       "      <th>4</th>\n",
       "      <td>32</td>\n",
       "      <td>11</td>\n",
       "      <td>1</td>\n",
       "    </tr>\n",
       "  </tbody>\n",
       "</table>\n",
       "</div>"
      ],
      "text/plain": [
       "  region pickup_hour count\n",
       "                     count\n",
       "0     15          13     1\n",
       "1     16          08     1\n",
       "2     25          13     1\n",
       "3     27          03     1\n",
       "4     32          11     1"
      ]
     },
     "execution_count": 56,
     "metadata": {},
     "output_type": "execute_result"
    }
   ],
   "source": [
    "data.head()"
   ]
  },
  {
   "cell_type": "code",
   "execution_count": 57,
   "metadata": {},
   "outputs": [],
   "source": [
    "data.columns = data.columns.droplevel(1)"
   ]
  },
  {
   "cell_type": "code",
   "execution_count": 58,
   "metadata": {},
   "outputs": [
    {
     "data": {
      "text/html": [
       "<div>\n",
       "<table border=\"1\" class=\"dataframe\">\n",
       "  <thead>\n",
       "    <tr style=\"text-align: right;\">\n",
       "      <th></th>\n",
       "      <th>region</th>\n",
       "      <th>pickup_hour</th>\n",
       "      <th>count</th>\n",
       "    </tr>\n",
       "  </thead>\n",
       "  <tbody>\n",
       "    <tr>\n",
       "      <th>0</th>\n",
       "      <td>15</td>\n",
       "      <td>13</td>\n",
       "      <td>1</td>\n",
       "    </tr>\n",
       "    <tr>\n",
       "      <th>1</th>\n",
       "      <td>16</td>\n",
       "      <td>08</td>\n",
       "      <td>1</td>\n",
       "    </tr>\n",
       "    <tr>\n",
       "      <th>2</th>\n",
       "      <td>25</td>\n",
       "      <td>13</td>\n",
       "      <td>1</td>\n",
       "    </tr>\n",
       "    <tr>\n",
       "      <th>3</th>\n",
       "      <td>27</td>\n",
       "      <td>03</td>\n",
       "      <td>1</td>\n",
       "    </tr>\n",
       "    <tr>\n",
       "      <th>4</th>\n",
       "      <td>32</td>\n",
       "      <td>11</td>\n",
       "      <td>1</td>\n",
       "    </tr>\n",
       "  </tbody>\n",
       "</table>\n",
       "</div>"
      ],
      "text/plain": [
       "   region pickup_hour  count\n",
       "0      15          13      1\n",
       "1      16          08      1\n",
       "2      25          13      1\n",
       "3      27          03      1\n",
       "4      32          11      1"
      ]
     },
     "execution_count": 58,
     "metadata": {},
     "output_type": "execute_result"
    }
   ],
   "source": [
    "data.head()"
   ]
  },
  {
   "cell_type": "code",
   "execution_count": 59,
   "metadata": {},
   "outputs": [],
   "source": [
    "ESB_hour = data[data.region==ESB_regionID].pickup_hour\n",
    "ESB_count = data[data.region==ESB_regionID]['count']\n",
    "\n",
    "ESB_hour = ESB_hour.values\n",
    "ESB_count = ESB_count.values"
   ]
  },
  {
   "cell_type": "code",
   "execution_count": 60,
   "metadata": {},
   "outputs": [],
   "source": [
    "% matplotlib inline\n",
    "import matplotlib.pyplot as plt"
   ]
  },
  {
   "cell_type": "code",
   "execution_count": 61,
   "metadata": {
    "scrolled": true
   },
   "outputs": [
    {
     "data": {
      "text/plain": [
       "[<matplotlib.lines.Line2D at 0x28c0c908>]"
      ]
     },
     "execution_count": 61,
     "metadata": {},
     "output_type": "execute_result"
    },
    {
     "data": {
      "image/png": "[encoded data removed]",
      "text/plain": [
       "<matplotlib.figure.Figure at 0x34316a90>"
      ]
     },
     "metadata": {},
     "output_type": "display_data"
    }
   ],
   "source": [
    "plt.plot(ESB_hour, ESB_count)"
   ]
  },
  {
   "cell_type": "markdown",
   "metadata": {},
   "source": [
    "#### 6. Посчитайте, сколько в мае 2016 было пар час-ячейка, для которых не было совершено ни одной поездки."
   ]
  },
  {
   "cell_type": "code",
   "execution_count": 67,
   "metadata": {
    "collapsed": true
   },
   "outputs": [],
   "source": [
    "region_x = ((data_05_2016_raw.pickup_longitude-set_region.west_borders)/set_region.dx).astype(np.int)\n",
    "region_y = ((data_05_2016_raw.pickup_latitude-set_region.south_borders)/set_region.dy).astype(np.int)\n",
    "region_id_raw = region_x*set_region.intervals_cnt+region_y+1\n",
    "data_05_2016_raw['region'] = region_id_raw"
   ]
  },
  {
   "cell_type": "code",
   "execution_count": 76,
   "metadata": {},
   "outputs": [],
   "source": [
    "ind = data_05_2016_raw[(data_05_2016_raw.region<1) | (data_05_2016_raw.region>2500)].index # check"
   ]
  },
  {
   "cell_type": "code",
   "execution_count": null,
   "metadata": {
    "collapsed": true
   },
   "outputs": [],
   "source": [
    "data_05_2016_raw_upd = data_05_2016_raw.drop(ind) # дропнем индексы с кривыми айдишниками регионов, посчитанными в предыдущей ячейке"
   ]
  },
  {
   "cell_type": "code",
   "execution_count": 80,
   "metadata": {},
   "outputs": [
    {
     "name": "stdout",
     "output_type": "stream",
     "text": [
      "10320\n"
     ]
    }
   ],
   "source": [
    "# Посчитаем количество различных уникальных регионов в которых были заказы желтых такси в Нью-Йорке\n",
    "\n",
    "uar = len(set(data_05_2016_raw_upd.region))\n",
    "\n",
    "# Посчитаем количество различных уникальных регионов в агрегированных данных\n",
    "uar_agg = len(set(data.region))\n",
    "\n",
    "# Посчитаем ответ на задание (24 - часов в дне)\n",
    "print 24*(uar - uar_agg)"
   ]
  }
 ],
 "metadata": {
  "anaconda-cloud": {},
  "kernelspec": {
   "display_name": "Python 3",
   "language": "python",
   "name": "python3"
  },
  "language_info": {
   "codemirror_mode": {
    "name": "ipython",
    "version": 3
   },
   "file_extension": ".py",
   "mimetype": "text/x-python",
   "name": "python",
   "nbconvert_exporter": "python",
   "pygments_lexer": "ipython3",
   "version": "3.5.2"
  }
 },
 "nbformat": 4,
 "nbformat_minor": 1
}
