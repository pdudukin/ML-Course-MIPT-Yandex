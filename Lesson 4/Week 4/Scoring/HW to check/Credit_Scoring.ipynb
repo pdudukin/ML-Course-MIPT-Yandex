{
 "cells": [
  {
   "cell_type": "markdown",
   "metadata": {},
   "source": [
    "# Задача Кредитного Скоринга"
   ]
  },
  {
   "cell_type": "code",
   "execution_count": 30,
   "metadata": {
    "collapsed": false
   },
   "outputs": [
    {
     "name": "stdout",
     "output_type": "stream",
     "text": [
      "Populating the interactive namespace from numpy and matplotlib\n"
     ]
    },
    {
     "name": "stderr",
     "output_type": "stream",
     "text": [
      "WARNING: pylab import has clobbered these variables: ['norm']\n",
      "`%matplotlib` prevents importing * from pylab and numpy\n"
     ]
    }
   ],
   "source": [
    "import pandas as pd\n",
    "import numpy as np\n",
    "import scipy as sc\n",
    "\n",
    "from scipy.stats import chi2_contingency, chi2, norm\n",
    "\n",
    "import matplotlib.pyplot as plt\n",
    "import seaborn as sns\n",
    "\n",
    "%pylab inline"
   ]
  },
  {
   "cell_type": "code",
   "execution_count": 31,
   "metadata": {
    "collapsed": false
   },
   "outputs": [
    {
     "data": {
      "text/html": [
       "<div>\n",
       "<table border=\"1\" class=\"dataframe\">\n",
       "  <thead>\n",
       "    <tr style=\"text-align: right;\">\n",
       "      <th></th>\n",
       "      <th>ID</th>\n",
       "      <th>LIMIT_BAL</th>\n",
       "      <th>SEX</th>\n",
       "      <th>EDUCATION</th>\n",
       "      <th>MARRIAGE</th>\n",
       "      <th>AGE</th>\n",
       "      <th>PAY_0</th>\n",
       "      <th>PAY_2</th>\n",
       "      <th>PAY_3</th>\n",
       "      <th>PAY_4</th>\n",
       "      <th>...</th>\n",
       "      <th>BILL_AMT4</th>\n",
       "      <th>BILL_AMT5</th>\n",
       "      <th>BILL_AMT6</th>\n",
       "      <th>PAY_AMT1</th>\n",
       "      <th>PAY_AMT2</th>\n",
       "      <th>PAY_AMT3</th>\n",
       "      <th>PAY_AMT4</th>\n",
       "      <th>PAY_AMT5</th>\n",
       "      <th>PAY_AMT6</th>\n",
       "      <th>default</th>\n",
       "    </tr>\n",
       "  </thead>\n",
       "  <tbody>\n",
       "    <tr>\n",
       "      <th>0</th>\n",
       "      <td>1</td>\n",
       "      <td>20000</td>\n",
       "      <td>2</td>\n",
       "      <td>2</td>\n",
       "      <td>1</td>\n",
       "      <td>24</td>\n",
       "      <td>2</td>\n",
       "      <td>2</td>\n",
       "      <td>0</td>\n",
       "      <td>0</td>\n",
       "      <td>...</td>\n",
       "      <td>0</td>\n",
       "      <td>0</td>\n",
       "      <td>0</td>\n",
       "      <td>0</td>\n",
       "      <td>689</td>\n",
       "      <td>0</td>\n",
       "      <td>0</td>\n",
       "      <td>0</td>\n",
       "      <td>0</td>\n",
       "      <td>1</td>\n",
       "    </tr>\n",
       "    <tr>\n",
       "      <th>1</th>\n",
       "      <td>2</td>\n",
       "      <td>120000</td>\n",
       "      <td>2</td>\n",
       "      <td>2</td>\n",
       "      <td>2</td>\n",
       "      <td>26</td>\n",
       "      <td>0</td>\n",
       "      <td>2</td>\n",
       "      <td>0</td>\n",
       "      <td>0</td>\n",
       "      <td>...</td>\n",
       "      <td>3272</td>\n",
       "      <td>3455</td>\n",
       "      <td>3261</td>\n",
       "      <td>0</td>\n",
       "      <td>1000</td>\n",
       "      <td>1000</td>\n",
       "      <td>1000</td>\n",
       "      <td>0</td>\n",
       "      <td>2000</td>\n",
       "      <td>1</td>\n",
       "    </tr>\n",
       "    <tr>\n",
       "      <th>2</th>\n",
       "      <td>3</td>\n",
       "      <td>90000</td>\n",
       "      <td>2</td>\n",
       "      <td>2</td>\n",
       "      <td>2</td>\n",
       "      <td>34</td>\n",
       "      <td>0</td>\n",
       "      <td>0</td>\n",
       "      <td>0</td>\n",
       "      <td>0</td>\n",
       "      <td>...</td>\n",
       "      <td>14331</td>\n",
       "      <td>14948</td>\n",
       "      <td>15549</td>\n",
       "      <td>1518</td>\n",
       "      <td>1500</td>\n",
       "      <td>1000</td>\n",
       "      <td>1000</td>\n",
       "      <td>1000</td>\n",
       "      <td>5000</td>\n",
       "      <td>0</td>\n",
       "    </tr>\n",
       "    <tr>\n",
       "      <th>3</th>\n",
       "      <td>4</td>\n",
       "      <td>50000</td>\n",
       "      <td>2</td>\n",
       "      <td>2</td>\n",
       "      <td>1</td>\n",
       "      <td>37</td>\n",
       "      <td>0</td>\n",
       "      <td>0</td>\n",
       "      <td>0</td>\n",
       "      <td>0</td>\n",
       "      <td>...</td>\n",
       "      <td>28314</td>\n",
       "      <td>28959</td>\n",
       "      <td>29547</td>\n",
       "      <td>2000</td>\n",
       "      <td>2019</td>\n",
       "      <td>1200</td>\n",
       "      <td>1100</td>\n",
       "      <td>1069</td>\n",
       "      <td>1000</td>\n",
       "      <td>0</td>\n",
       "    </tr>\n",
       "    <tr>\n",
       "      <th>4</th>\n",
       "      <td>5</td>\n",
       "      <td>50000</td>\n",
       "      <td>1</td>\n",
       "      <td>2</td>\n",
       "      <td>1</td>\n",
       "      <td>57</td>\n",
       "      <td>0</td>\n",
       "      <td>0</td>\n",
       "      <td>0</td>\n",
       "      <td>0</td>\n",
       "      <td>...</td>\n",
       "      <td>20940</td>\n",
       "      <td>19146</td>\n",
       "      <td>19131</td>\n",
       "      <td>2000</td>\n",
       "      <td>36681</td>\n",
       "      <td>10000</td>\n",
       "      <td>9000</td>\n",
       "      <td>689</td>\n",
       "      <td>679</td>\n",
       "      <td>0</td>\n",
       "    </tr>\n",
       "  </tbody>\n",
       "</table>\n",
       "<p>5 rows × 25 columns</p>\n",
       "</div>"
      ],
      "text/plain": [
       "   ID  LIMIT_BAL  SEX  EDUCATION  MARRIAGE  AGE  PAY_0  PAY_2  PAY_3  PAY_4  \\\n",
       "0   1      20000    2          2         1   24      2      2      0      0   \n",
       "1   2     120000    2          2         2   26      0      2      0      0   \n",
       "2   3      90000    2          2         2   34      0      0      0      0   \n",
       "3   4      50000    2          2         1   37      0      0      0      0   \n",
       "4   5      50000    1          2         1   57      0      0      0      0   \n",
       "\n",
       "    ...     BILL_AMT4  BILL_AMT5  BILL_AMT6  PAY_AMT1  PAY_AMT2  PAY_AMT3  \\\n",
       "0   ...             0          0          0         0       689         0   \n",
       "1   ...          3272       3455       3261         0      1000      1000   \n",
       "2   ...         14331      14948      15549      1518      1500      1000   \n",
       "3   ...         28314      28959      29547      2000      2019      1200   \n",
       "4   ...         20940      19146      19131      2000     36681     10000   \n",
       "\n",
       "   PAY_AMT4  PAY_AMT5  PAY_AMT6  default  \n",
       "0         0         0         0        1  \n",
       "1      1000         0      2000        1  \n",
       "2      1000      1000      5000        0  \n",
       "3      1100      1069      1000        0  \n",
       "4      9000       689       679        0  \n",
       "\n",
       "[5 rows x 25 columns]"
      ]
     },
     "execution_count": 31,
     "metadata": {},
     "output_type": "execute_result"
    }
   ],
   "source": [
    "data = pd.read_csv(\"credit_card_default_analysis.csv\")\n",
    "data.head()"
   ]
  },
  {
   "cell_type": "code",
   "execution_count": 32,
   "metadata": {
    "collapsed": false
   },
   "outputs": [
    {
     "data": {
      "text/plain": [
       "(30000, 25)"
      ]
     },
     "execution_count": 32,
     "metadata": {},
     "output_type": "execute_result"
    }
   ],
   "source": [
    "data.shape"
   ]
  },
  {
   "cell_type": "code",
   "execution_count": 33,
   "metadata": {
    "collapsed": false
   },
   "outputs": [
    {
     "data": {
      "text/html": [
       "<div>\n",
       "<table border=\"1\" class=\"dataframe\">\n",
       "  <thead>\n",
       "    <tr style=\"text-align: right;\">\n",
       "      <th></th>\n",
       "      <th>ID</th>\n",
       "      <th>LIMIT_BAL</th>\n",
       "      <th>SEX</th>\n",
       "      <th>EDUCATION</th>\n",
       "      <th>MARRIAGE</th>\n",
       "      <th>AGE</th>\n",
       "      <th>PAY_0</th>\n",
       "      <th>PAY_2</th>\n",
       "      <th>PAY_3</th>\n",
       "      <th>PAY_4</th>\n",
       "      <th>...</th>\n",
       "      <th>BILL_AMT4</th>\n",
       "      <th>BILL_AMT5</th>\n",
       "      <th>BILL_AMT6</th>\n",
       "      <th>PAY_AMT1</th>\n",
       "      <th>PAY_AMT2</th>\n",
       "      <th>PAY_AMT3</th>\n",
       "      <th>PAY_AMT4</th>\n",
       "      <th>PAY_AMT5</th>\n",
       "      <th>PAY_AMT6</th>\n",
       "      <th>default</th>\n",
       "    </tr>\n",
       "  </thead>\n",
       "  <tbody>\n",
       "    <tr>\n",
       "      <th>count</th>\n",
       "      <td>30000.000000</td>\n",
       "      <td>30000.000000</td>\n",
       "      <td>30000.000000</td>\n",
       "      <td>30000.000000</td>\n",
       "      <td>30000.000000</td>\n",
       "      <td>30000.000000</td>\n",
       "      <td>30000.000000</td>\n",
       "      <td>30000.000000</td>\n",
       "      <td>30000.000000</td>\n",
       "      <td>30000.000000</td>\n",
       "      <td>...</td>\n",
       "      <td>30000.000000</td>\n",
       "      <td>30000.000000</td>\n",
       "      <td>30000.000000</td>\n",
       "      <td>30000.000000</td>\n",
       "      <td>3.000000e+04</td>\n",
       "      <td>30000.00000</td>\n",
       "      <td>30000.000000</td>\n",
       "      <td>30000.000000</td>\n",
       "      <td>30000.000000</td>\n",
       "      <td>30000.000000</td>\n",
       "    </tr>\n",
       "    <tr>\n",
       "      <th>mean</th>\n",
       "      <td>15000.500000</td>\n",
       "      <td>167484.322667</td>\n",
       "      <td>1.603733</td>\n",
       "      <td>1.853133</td>\n",
       "      <td>1.551867</td>\n",
       "      <td>35.485500</td>\n",
       "      <td>0.356767</td>\n",
       "      <td>0.320033</td>\n",
       "      <td>0.304067</td>\n",
       "      <td>0.258767</td>\n",
       "      <td>...</td>\n",
       "      <td>43262.948967</td>\n",
       "      <td>40311.400967</td>\n",
       "      <td>38871.760400</td>\n",
       "      <td>5663.580500</td>\n",
       "      <td>5.921163e+03</td>\n",
       "      <td>5225.68150</td>\n",
       "      <td>4826.076867</td>\n",
       "      <td>4799.387633</td>\n",
       "      <td>5215.502567</td>\n",
       "      <td>0.221200</td>\n",
       "    </tr>\n",
       "    <tr>\n",
       "      <th>std</th>\n",
       "      <td>8660.398374</td>\n",
       "      <td>129747.661567</td>\n",
       "      <td>0.489129</td>\n",
       "      <td>0.790349</td>\n",
       "      <td>0.521970</td>\n",
       "      <td>9.217904</td>\n",
       "      <td>0.760594</td>\n",
       "      <td>0.801727</td>\n",
       "      <td>0.790589</td>\n",
       "      <td>0.761113</td>\n",
       "      <td>...</td>\n",
       "      <td>64332.856134</td>\n",
       "      <td>60797.155770</td>\n",
       "      <td>59554.107537</td>\n",
       "      <td>16563.280354</td>\n",
       "      <td>2.304087e+04</td>\n",
       "      <td>17606.96147</td>\n",
       "      <td>15666.159744</td>\n",
       "      <td>15278.305679</td>\n",
       "      <td>17777.465775</td>\n",
       "      <td>0.415062</td>\n",
       "    </tr>\n",
       "    <tr>\n",
       "      <th>min</th>\n",
       "      <td>1.000000</td>\n",
       "      <td>10000.000000</td>\n",
       "      <td>1.000000</td>\n",
       "      <td>0.000000</td>\n",
       "      <td>0.000000</td>\n",
       "      <td>21.000000</td>\n",
       "      <td>0.000000</td>\n",
       "      <td>0.000000</td>\n",
       "      <td>0.000000</td>\n",
       "      <td>0.000000</td>\n",
       "      <td>...</td>\n",
       "      <td>-170000.000000</td>\n",
       "      <td>-81334.000000</td>\n",
       "      <td>-339603.000000</td>\n",
       "      <td>0.000000</td>\n",
       "      <td>0.000000e+00</td>\n",
       "      <td>0.00000</td>\n",
       "      <td>0.000000</td>\n",
       "      <td>0.000000</td>\n",
       "      <td>0.000000</td>\n",
       "      <td>0.000000</td>\n",
       "    </tr>\n",
       "    <tr>\n",
       "      <th>25%</th>\n",
       "      <td>7500.750000</td>\n",
       "      <td>50000.000000</td>\n",
       "      <td>1.000000</td>\n",
       "      <td>1.000000</td>\n",
       "      <td>1.000000</td>\n",
       "      <td>28.000000</td>\n",
       "      <td>0.000000</td>\n",
       "      <td>0.000000</td>\n",
       "      <td>0.000000</td>\n",
       "      <td>0.000000</td>\n",
       "      <td>...</td>\n",
       "      <td>2326.750000</td>\n",
       "      <td>1763.000000</td>\n",
       "      <td>1256.000000</td>\n",
       "      <td>1000.000000</td>\n",
       "      <td>8.330000e+02</td>\n",
       "      <td>390.00000</td>\n",
       "      <td>296.000000</td>\n",
       "      <td>252.500000</td>\n",
       "      <td>117.750000</td>\n",
       "      <td>0.000000</td>\n",
       "    </tr>\n",
       "    <tr>\n",
       "      <th>50%</th>\n",
       "      <td>15000.500000</td>\n",
       "      <td>140000.000000</td>\n",
       "      <td>2.000000</td>\n",
       "      <td>2.000000</td>\n",
       "      <td>2.000000</td>\n",
       "      <td>34.000000</td>\n",
       "      <td>0.000000</td>\n",
       "      <td>0.000000</td>\n",
       "      <td>0.000000</td>\n",
       "      <td>0.000000</td>\n",
       "      <td>...</td>\n",
       "      <td>19052.000000</td>\n",
       "      <td>18104.500000</td>\n",
       "      <td>17071.000000</td>\n",
       "      <td>2100.000000</td>\n",
       "      <td>2.009000e+03</td>\n",
       "      <td>1800.00000</td>\n",
       "      <td>1500.000000</td>\n",
       "      <td>1500.000000</td>\n",
       "      <td>1500.000000</td>\n",
       "      <td>0.000000</td>\n",
       "    </tr>\n",
       "    <tr>\n",
       "      <th>75%</th>\n",
       "      <td>22500.250000</td>\n",
       "      <td>240000.000000</td>\n",
       "      <td>2.000000</td>\n",
       "      <td>2.000000</td>\n",
       "      <td>2.000000</td>\n",
       "      <td>41.000000</td>\n",
       "      <td>0.000000</td>\n",
       "      <td>0.000000</td>\n",
       "      <td>0.000000</td>\n",
       "      <td>0.000000</td>\n",
       "      <td>...</td>\n",
       "      <td>54506.000000</td>\n",
       "      <td>50190.500000</td>\n",
       "      <td>49198.250000</td>\n",
       "      <td>5006.000000</td>\n",
       "      <td>5.000000e+03</td>\n",
       "      <td>4505.00000</td>\n",
       "      <td>4013.250000</td>\n",
       "      <td>4031.500000</td>\n",
       "      <td>4000.000000</td>\n",
       "      <td>0.000000</td>\n",
       "    </tr>\n",
       "    <tr>\n",
       "      <th>max</th>\n",
       "      <td>30000.000000</td>\n",
       "      <td>1000000.000000</td>\n",
       "      <td>2.000000</td>\n",
       "      <td>6.000000</td>\n",
       "      <td>3.000000</td>\n",
       "      <td>79.000000</td>\n",
       "      <td>8.000000</td>\n",
       "      <td>8.000000</td>\n",
       "      <td>8.000000</td>\n",
       "      <td>8.000000</td>\n",
       "      <td>...</td>\n",
       "      <td>891586.000000</td>\n",
       "      <td>927171.000000</td>\n",
       "      <td>961664.000000</td>\n",
       "      <td>873552.000000</td>\n",
       "      <td>1.684259e+06</td>\n",
       "      <td>896040.00000</td>\n",
       "      <td>621000.000000</td>\n",
       "      <td>426529.000000</td>\n",
       "      <td>528666.000000</td>\n",
       "      <td>1.000000</td>\n",
       "    </tr>\n",
       "  </tbody>\n",
       "</table>\n",
       "<p>8 rows × 25 columns</p>\n",
       "</div>"
      ],
      "text/plain": [
       "                 ID       LIMIT_BAL           SEX     EDUCATION      MARRIAGE  \\\n",
       "count  30000.000000    30000.000000  30000.000000  30000.000000  30000.000000   \n",
       "mean   15000.500000   167484.322667      1.603733      1.853133      1.551867   \n",
       "std     8660.398374   129747.661567      0.489129      0.790349      0.521970   \n",
       "min        1.000000    10000.000000      1.000000      0.000000      0.000000   \n",
       "25%     7500.750000    50000.000000      1.000000      1.000000      1.000000   \n",
       "50%    15000.500000   140000.000000      2.000000      2.000000      2.000000   \n",
       "75%    22500.250000   240000.000000      2.000000      2.000000      2.000000   \n",
       "max    30000.000000  1000000.000000      2.000000      6.000000      3.000000   \n",
       "\n",
       "                AGE         PAY_0         PAY_2         PAY_3         PAY_4  \\\n",
       "count  30000.000000  30000.000000  30000.000000  30000.000000  30000.000000   \n",
       "mean      35.485500      0.356767      0.320033      0.304067      0.258767   \n",
       "std        9.217904      0.760594      0.801727      0.790589      0.761113   \n",
       "min       21.000000      0.000000      0.000000      0.000000      0.000000   \n",
       "25%       28.000000      0.000000      0.000000      0.000000      0.000000   \n",
       "50%       34.000000      0.000000      0.000000      0.000000      0.000000   \n",
       "75%       41.000000      0.000000      0.000000      0.000000      0.000000   \n",
       "max       79.000000      8.000000      8.000000      8.000000      8.000000   \n",
       "\n",
       "           ...           BILL_AMT4      BILL_AMT5      BILL_AMT6  \\\n",
       "count      ...        30000.000000   30000.000000   30000.000000   \n",
       "mean       ...        43262.948967   40311.400967   38871.760400   \n",
       "std        ...        64332.856134   60797.155770   59554.107537   \n",
       "min        ...      -170000.000000  -81334.000000 -339603.000000   \n",
       "25%        ...         2326.750000    1763.000000    1256.000000   \n",
       "50%        ...        19052.000000   18104.500000   17071.000000   \n",
       "75%        ...        54506.000000   50190.500000   49198.250000   \n",
       "max        ...       891586.000000  927171.000000  961664.000000   \n",
       "\n",
       "            PAY_AMT1      PAY_AMT2      PAY_AMT3       PAY_AMT4  \\\n",
       "count   30000.000000  3.000000e+04   30000.00000   30000.000000   \n",
       "mean     5663.580500  5.921163e+03    5225.68150    4826.076867   \n",
       "std     16563.280354  2.304087e+04   17606.96147   15666.159744   \n",
       "min         0.000000  0.000000e+00       0.00000       0.000000   \n",
       "25%      1000.000000  8.330000e+02     390.00000     296.000000   \n",
       "50%      2100.000000  2.009000e+03    1800.00000    1500.000000   \n",
       "75%      5006.000000  5.000000e+03    4505.00000    4013.250000   \n",
       "max    873552.000000  1.684259e+06  896040.00000  621000.000000   \n",
       "\n",
       "            PAY_AMT5       PAY_AMT6       default  \n",
       "count   30000.000000   30000.000000  30000.000000  \n",
       "mean     4799.387633    5215.502567      0.221200  \n",
       "std     15278.305679   17777.465775      0.415062  \n",
       "min         0.000000       0.000000      0.000000  \n",
       "25%       252.500000     117.750000      0.000000  \n",
       "50%      1500.000000    1500.000000      0.000000  \n",
       "75%      4031.500000    4000.000000      0.000000  \n",
       "max    426529.000000  528666.000000      1.000000  \n",
       "\n",
       "[8 rows x 25 columns]"
      ]
     },
     "execution_count": 33,
     "metadata": {},
     "output_type": "execute_result"
    }
   ],
   "source": [
    "data.describe()"
   ]
  },
  {
   "cell_type": "markdown",
   "metadata": {},
   "source": [
    "### 1. Размер кредитного лимита"
   ]
  },
  {
   "cell_type": "code",
   "execution_count": 34,
   "metadata": {
    "collapsed": false
   },
   "outputs": [
    {
     "data": {
      "image/png": "[encoded data removed]",
      "text/plain": [
       "<matplotlib.figure.Figure at 0xca06c18>"
      ]
     },
     "metadata": {},
     "output_type": "display_data"
    }
   ],
   "source": [
    "plt.figure(figsize(16, 20))\n",
    "\n",
    "plt.subplot(421)\n",
    "data[data['default'] == 0]['LIMIT_BAL'].plot.hist(bins=50)\n",
    "plt.xlabel('Credit Size for good credits', fontsize=14)\n",
    "\n",
    "plt.subplot(422)\n",
    "np.log(data[data['default'] == 0]['LIMIT_BAL']).plot.hist(bins=50)\n",
    "plt.xlabel('log(Credit Size for good credits)', fontsize=14)\n",
    "\n",
    "plt.subplot(423)\n",
    "sc.stats.probplot(data[data['default'] == 0]['LIMIT_BAL'], dist=\"norm\", plot=pylab)\n",
    "plt.xlabel('Q-Q Plot for Credit Size for good credits', fontsize=14)\n",
    "\n",
    "plt.subplot(425)\n",
    "data[data['default'] == 1]['LIMIT_BAL'].plot.hist(bins=50)\n",
    "plt.xlabel('Credit Size for BAD credits', fontsize=14)\n",
    "\n",
    "plt.subplot(426)\n",
    "np.log(data[data['default'] == 1]['LIMIT_BAL']).plot.hist(bins=50)\n",
    "plt.xlabel('log(Credit Size for BAD credits)', fontsize=14)\n",
    "\n",
    "plt.subplot(427)\n",
    "sc.stats.probplot(data[data['default'] == 1]['LIMIT_BAL'], dist=\"norm\", plot=pylab)\n",
    "plt.xlabel('Q-Q Plot for Credit Size for BAD credits', fontsize=14)\n",
    "\n",
    "pylab.show()"
   ]
  },
  {
   "cell_type": "markdown",
   "metadata": {},
   "source": [
    "Распределение размеров кредитов у каждой выборки не похоже на нормальное. Логарифм размеров кредитов тоже не сильно помогает.\n",
    "Ку-ку-плот подтверждает.\n",
    "Сделать предположение о нормальности исходных выборок не можем.\n",
    "Таким образом, задачу будем решать непараметрическими критериями.\n",
    "\n",
    "Сразу отметим, что выборки у нас, по ходу, независимые. Это понадобится.\n",
    "\n",
    "Нарисуем \"ящики с усами\" для каждой из выборок."
   ]
  },
  {
   "cell_type": "code",
   "execution_count": 35,
   "metadata": {
    "collapsed": false
   },
   "outputs": [
    {
     "data": {
      "image/png": "[encoded data removed]",
      "text/plain": [
       "<matplotlib.figure.Figure at 0xca06da0>"
      ]
     },
     "metadata": {},
     "output_type": "display_data"
    }
   ],
   "source": [
    "plt.figure(figsize(16, 5))\n",
    "\n",
    "sns.boxplot(data=data[['default', 'LIMIT_BAL']], x='LIMIT_BAL', y='default', orient='h')\n",
    "\n",
    "pylab.show()"
   ]
  },
  {
   "cell_type": "markdown",
   "metadata": {},
   "source": [
    "Кажется, что медианы должны быть разные.\n",
    "\n",
    "**Нулевая гипотеза Н0**: медиана первой выборки совпадает с медианой второй выборки\n",
    "\n",
    "**Альтернативная гипотеза Н1**: общая альтернатива, т.е. медианы двух выборок не совпадают\n",
    "\n",
    "Сделаем оценки медиан, вкл. интервальные, с помощью бутстрепа."
   ]
  },
  {
   "cell_type": "code",
   "execution_count": 36,
   "metadata": {
    "collapsed": false
   },
   "outputs": [
    {
     "name": "stdout",
     "output_type": "stream",
     "text": [
      "Median for those who didn't pay: 90000.0\n",
      "Median for those who paid: 150000.0\n"
     ]
    }
   ],
   "source": [
    "#\n",
    "# Вспомогательные процедуры. Честно скопированы из лекций\n",
    "#\n",
    "def get_bootstrap_samples(data, n_samples):\n",
    "    indices = np.random.randint(0, len(data), (n_samples, len(data)))\n",
    "    samples = data[indices]\n",
    "    return samples\n",
    "\n",
    "def stat_intervals(stat, alpha):\n",
    "    boundaries = np.percentile(stat, [100 * alpha / 2., 100 * (1 - alpha / 2.)])\n",
    "    return boundaries\n",
    "\n",
    "#\n",
    "# Подготовим данные и посмотрим на медианы\n",
    "#\n",
    "not_paid = data[data['default'] == 1]['LIMIT_BAL'].values\n",
    "paid = data[data['default'] == 0]['LIMIT_BAL'].values\n",
    "\n",
    "print \"Median for those who didn't pay:\", np.median(not_paid)\n",
    "print \"Median for those who paid:\", np.median(paid)"
   ]
  },
  {
   "cell_type": "code",
   "execution_count": 37,
   "metadata": {
    "collapsed": false
   },
   "outputs": [
    {
     "name": "stdout",
     "output_type": "stream",
     "text": [
      "95% confidence interval for the credit limit median for those who didn't pay: [ 80000.  90000.]\n",
      "95% confidence interval for the credit limit median for those who paid: [ 150000.  150000.]\n"
     ]
    }
   ],
   "source": [
    "#\n",
    "# Интервальные оценки каждой медианы\n",
    "#\n",
    "np.random.seed(0)\n",
    "\n",
    "not_paid_median_scores = map(np.median, get_bootstrap_samples(not_paid, 1000))\n",
    "paid_median_scores = map(np.median, get_bootstrap_samples(paid, 1000))\n",
    "\n",
    "print \"95% confidence interval for the credit limit median for those who didn't pay:\",  \\\n",
    "                stat_intervals(not_paid_median_scores, 0.05)\n",
    "print \"95% confidence interval for the credit limit median for those who paid:\",  \\\n",
    "                stat_intervals(paid_median_scores, 0.05)"
   ]
  },
  {
   "cell_type": "code",
   "execution_count": 38,
   "metadata": {
    "collapsed": false
   },
   "outputs": [
    {
     "name": "stdout",
     "output_type": "stream",
     "text": [
      "difference between medians: 60000.0\n"
     ]
    }
   ],
   "source": [
    "#\n",
    "# Точечная оценка разности медиан\n",
    "#\n",
    "print \"difference between medians:\", np.median(paid) - np.median(not_paid)"
   ]
  },
  {
   "cell_type": "code",
   "execution_count": 39,
   "metadata": {
    "collapsed": false
   },
   "outputs": [
    {
     "name": "stdout",
     "output_type": "stream",
     "text": [
      "95% confidence interval for the difference between medians [ 60000.  70000.]\n"
     ]
    }
   ],
   "source": [
    "#\n",
    "# Интервальная оценка разности медиан\n",
    "#\n",
    "delta_median_scores = map(lambda x: x[1] - x[0], zip(not_paid_median_scores, paid_median_scores))\n",
    "print \"95% confidence interval for the difference between medians\",  stat_intervals(delta_median_scores, 0.05)"
   ]
  },
  {
   "cell_type": "markdown",
   "metadata": {},
   "source": [
    "Видим, что интервальные оценки медиан не пересекаются, а интервальная оценка разности медиан не содержит 0. То есть, приближенный достигаемый уровень значимости бутстреп-критерия равен 0. Таким образом, уверенно отвергаем нулевую гипотезу.\n",
    "\n",
    "Медианы выборок различаются.\n",
    "\n",
    "Далее проверим гипотезу о равенстве распределений с помощью одного из подходящих непараметрических критериев проверки равенства средних. \n",
    "\n",
    "**Нулевая гипотеза Н0**: распределения размеров кредитов среди выплативших кредит и ~~злостных~~ неплательщиков равны: $F_{X_1}(x) = F_{X_2}(x)$\n",
    "\n",
    "**Альтернативная гипотеза Н1**: распределения размеров кредитов различаются: $F_{X_1}(x) = F_{X_2}(x + \\Delta), \\Delta\\neq 0$\n",
    "\n",
    "Будем проверять с помощью перестановочного критерия."
   ]
  },
  {
   "cell_type": "code",
   "execution_count": 40,
   "metadata": {
    "collapsed": false
   },
   "outputs": [],
   "source": [
    "#\n",
    "# Необходимые процедуры. Снова честно скопированные из лекций.\n",
    "#\n",
    "def permutation_t_stat_ind(sample1, sample2):\n",
    "    return np.mean(sample1) - np.mean(sample2)\n",
    "\n",
    "def get_random_combinations(n1, n2, max_combinations):\n",
    "    index = range(n1 + n2)\n",
    "    indices = set([tuple(index)])\n",
    "    for i in range(max_combinations - 1):\n",
    "        np.random.shuffle(index)\n",
    "        indices.add(tuple(index))\n",
    "    return [(index[:n1], index[n1:]) for index in indices]\n",
    "\n",
    "def permutation_zero_dist_ind(sample1, sample2, max_combinations = None):\n",
    "    joined_sample = np.hstack((sample1, sample2))\n",
    "    n1 = len(sample1)\n",
    "    n = len(joined_sample)\n",
    "    \n",
    "    if max_combinations:\n",
    "        indices = get_random_combinations(n1, len(sample2), max_combinations)\n",
    "    else:\n",
    "        indices = [(list(index), filter(lambda i: i not in index, range(n))) \\\n",
    "                    for index in itertools.combinations(range(n), n1)]\n",
    "    \n",
    "    distr = [joined_sample[list(i[0])].mean() - joined_sample[list(i[1])].mean() \\\n",
    "             for i in indices]\n",
    "    return distr\n",
    "\n",
    "def permutation_test(sample, mean, max_permutations = None, alternative = 'two-sided'):\n",
    "    if alternative not in ('two-sided', 'less', 'greater'):\n",
    "        raise ValueError(\"alternative not recognized\\n\"\n",
    "                         \"should be 'two-sided', 'less' or 'greater'\")\n",
    "    \n",
    "    t_stat = permutation_t_stat_ind(sample, mean)\n",
    "    \n",
    "    zero_distr = permutation_zero_dist_ind(sample, mean, max_permutations)\n",
    "    \n",
    "    if alternative == 'two-sided':\n",
    "        return sum([1. if abs(x) >= abs(t_stat) else 0. for x in zero_distr]) / len(zero_distr)\n",
    "    \n",
    "    if alternative == 'less':\n",
    "        return sum([1. if x <= t_stat else 0. for x in zero_distr]) / len(zero_distr)\n",
    "\n",
    "    if alternative == 'greater':\n",
    "        return sum([1. if x >= t_stat else 0. for x in zero_distr]) / len(zero_distr)"
   ]
  },
  {
   "cell_type": "code",
   "execution_count": 41,
   "metadata": {
    "collapsed": false
   },
   "outputs": [
    {
     "name": "stdout",
     "output_type": "stream",
     "text": [
      "p-value: 0.000100\n"
     ]
    }
   ],
   "source": [
    "print \"p-value: %f\" % permutation_test(paid, not_paid, max_permutations = 10000)"
   ]
  },
  {
   "cell_type": "markdown",
   "metadata": {},
   "source": [
    "Получили достигаемый уровень значимости заметно меньше 0.05. Можем уверенно отвергнуть нулевую гипотезу на уровне значимости 0.05.\n",
    "\n",
    "Распределения значений кредитов различаются.\n",
    "\n",
    "Касательно оценки эффекта и практической значимости полученных результатов. Размер эффекта по выборке будет равен 150000 - 90000 = 60000. \n",
    "\n",
    "ИМХО, практическая значимость невелика: ну и что из того, что медианное значение размеров проблемных кредитов отличается от медианного хороших кредитов? Медиана может быть очень обманчива; среднее и медиана могут различаться очень сильно. Впрочем, я не знаю, какие измерения и критерии используют банки. Лично я бы не полагался на значение медианы.\n",
    "\n",
    "Также, неясно, какой практический вывод можно сделать из того, что два распределения различаются."
   ]
  },
  {
   "cell_type": "markdown",
   "metadata": {},
   "source": [
    "### 2. Пол"
   ]
  },
  {
   "cell_type": "code",
   "execution_count": 42,
   "metadata": {
    "collapsed": false
   },
   "outputs": [
    {
     "data": {
      "text/plain": [
       "2    18112\n",
       "1    11888\n",
       "Name: SEX, dtype: int64"
      ]
     },
     "execution_count": 42,
     "metadata": {},
     "output_type": "execute_result"
    }
   ],
   "source": [
    "data['SEX'].value_counts()"
   ]
  },
  {
   "cell_type": "markdown",
   "metadata": {},
   "source": [
    "Непонятно, кто есть ху, то есть, кто дяди, а кто тёти. Давайте предположим, что дяди - это 2 (их больше).\n",
    "\n",
    "Выборка Х1 (paid) ~ Ber(p1)\n",
    "\n",
    "Выборка Х2 (not_paid) ~ Ber(p2)\n",
    "\n",
    "**Нулевая гипотеза Н0**: p1 = p2, т.е. гендерный состав выборок одинаков\n",
    "\n",
    "**Альтернативная гипотеза Н1**: p1 <> p2, т.е. гендерный состав выборок различается\n",
    "\n",
    "Сделаем оценку наших данных методом пристального взгляда:"
   ]
  },
  {
   "cell_type": "code",
   "execution_count": 43,
   "metadata": {
    "collapsed": false
   },
   "outputs": [
    {
     "data": {
      "image/png": "[encoded data removed]",
      "text/plain": [
       "<matplotlib.figure.Figure at 0xcaf3320>"
      ]
     },
     "metadata": {},
     "output_type": "display_data"
    }
   ],
   "source": [
    "plt.figure(figsize(16, 10))\n",
    "\n",
    "sns.countplot(data=data, x='default', hue='SEX')\n",
    "plt.xlabel('Gender distribution of good (0) and bad (1) credits', fontsize=14)\n",
    "\n",
    "pylab.show()"
   ]
  },
  {
   "cell_type": "markdown",
   "metadata": {},
   "source": [
    "Кажется, что гендерный состав неодинаков. Проверим же!\n",
    "\n",
    "Заменим двойки на единички, а единички на нолики, чтобы работать с нулями и единицами, как в учебнике. Теперь дядям соответствуют единички, а тётям нолики. Таким образом, мы получим распределения Бернулли и сможем применить соответствующие параметрические критерии."
   ]
  },
  {
   "cell_type": "code",
   "execution_count": 44,
   "metadata": {
    "collapsed": true
   },
   "outputs": [],
   "source": [
    "paid = data[data['default'] == 0]['SEX'].values - 1\n",
    "not_paid = data[data['default'] == 1]['SEX'].values - 1"
   ]
  },
  {
   "cell_type": "code",
   "execution_count": 45,
   "metadata": {
    "collapsed": true
   },
   "outputs": [],
   "source": [
    "#\n",
    "# Необходимые процедуры. По уже сложившейся хорошей традиции скопируем их из лекций.\n",
    "#\n",
    "def proportions_diff_confint_ind(sample1, sample2, alpha = 0.05):    \n",
    "    z = sc.stats.norm.ppf(1 - alpha / 2.)\n",
    "    \n",
    "    p1 = float(sum(sample1)) / len(sample1)\n",
    "    p2 = float(sum(sample2)) / len(sample2)\n",
    "    \n",
    "    left_boundary = (p1 - p2) - z * np.sqrt(p1 * (1 - p1)/ len(sample1) + p2 * (1 - p2)/ len(sample2))\n",
    "    right_boundary = (p1 - p2) + z * np.sqrt(p1 * (1 - p1)/ len(sample1) + p2 * (1 - p2)/ len(sample2))\n",
    "    \n",
    "    return (left_boundary, right_boundary)\n",
    "\n",
    "def proportions_diff_z_stat_ind(sample1, sample2):\n",
    "    n1 = len(sample1)\n",
    "    n2 = len(sample2)\n",
    "    \n",
    "    p1 = float(sum(sample1)) / n1\n",
    "    p2 = float(sum(sample2)) / n2 \n",
    "    P = float(p1*n1 + p2*n2) / (n1 + n2)\n",
    "    \n",
    "    return (p1 - p2) / np.sqrt(P * (1 - P) * (1. / n1 + 1. / n2))\n",
    "\n",
    "def proportions_diff_z_test(z_stat, alternative = 'two-sided'):\n",
    "    if alternative not in ('two-sided', 'less', 'greater'):\n",
    "        raise ValueError(\"alternative not recognized\\n\"\n",
    "                         \"should be 'two-sided', 'less' or 'greater'\")\n",
    "    \n",
    "    if alternative == 'two-sided':\n",
    "        return 2 * (1 - sc.stats.norm.cdf(np.abs(z_stat)))\n",
    "    \n",
    "    if alternative == 'less':\n",
    "        return sc.stats.norm.cdf(z_stat)\n",
    "\n",
    "    if alternative == 'greater':\n",
    "        return 1 - sc.stats.norm.cdf(z_stat)"
   ]
  },
  {
   "cell_type": "code",
   "execution_count": 46,
   "metadata": {
    "collapsed": false
   },
   "outputs": [
    {
     "name": "stdout",
     "output_type": "stream",
     "text": [
      "p-value: 4.472867e-12\n",
      "95% confidence interval for a difference between proportions: [0.033635, 0.060548]\n"
     ]
    }
   ],
   "source": [
    "print \"p-value: %e\" % proportions_diff_z_test(proportions_diff_z_stat_ind(paid, not_paid))\n",
    "\n",
    "print \"95%% confidence interval for a difference between proportions: [%f, %f]\" %\\\n",
    "      proportions_diff_confint_ind(paid, not_paid)"
   ]
  },
  {
   "cell_type": "markdown",
   "metadata": {},
   "source": [
    "Получили, что достигаемый уровень значимости заметно меньше 0.05. Доверительный интервал для разницы гендерных составов не включает ноль.\n",
    "\n",
    "Можем уверенно отвергнуть нулевую гипотезу на уровне значимости 0.05.\n",
    "\n",
    "Гендерный состав групп вернувших и не вернувших кредиты различается."
   ]
  },
  {
   "cell_type": "markdown",
   "metadata": {},
   "source": [
    "### 3. Образование"
   ]
  },
  {
   "cell_type": "code",
   "execution_count": 47,
   "metadata": {
    "collapsed": false
   },
   "outputs": [
    {
     "data": {
      "text/plain": [
       "2    14030\n",
       "1    10585\n",
       "3     4917\n",
       "5      280\n",
       "4      123\n",
       "6       51\n",
       "0       14\n",
       "Name: EDUCATION, dtype: int64"
      ]
     },
     "execution_count": 47,
     "metadata": {},
     "output_type": "execute_result"
    }
   ],
   "source": [
    "data['EDUCATION'].value_counts()"
   ]
  },
  {
   "cell_type": "code",
   "execution_count": 48,
   "metadata": {
    "collapsed": false
   },
   "outputs": [
    {
     "data": {
      "image/png": "[encoded data removed]",
      "text/plain": [
       "<matplotlib.figure.Figure at 0xc523b38>"
      ]
     },
     "metadata": {},
     "output_type": "display_data"
    }
   ],
   "source": [
    "plt.figure(figsize(16, 10))\n",
    "\n",
    "sns.countplot(data=data, x='default', hue='EDUCATION')\n",
    "plt.xlabel('Education distribution of good (0) and bad (1) credits', fontsize=14)\n",
    "\n",
    "# образование (0 = доктор, 1 = магистр; 2 = бакалавр; 3 = выпускник школы; 4 = начальное образование; 5= прочее; 6 = нет данных\n",
    "plt.legend(labels=['Doctor', 'Magistr', 'Bakalavr', 'Srednee', 'Nachalnoe', 'Other', 'No data'])\n",
    "\n",
    "pylab.show()"
   ]
  },
  {
   "cell_type": "markdown",
   "metadata": {},
   "source": [
    "Любопытная картинка. Хорошо видны распределения людей с Магистром, Бакалавром и Среднимю\n",
    "Кажется, что распределение людей похоже.\n",
    "\n",
    "Разберемся с формулировкой гипотез.\n",
    "\n",
    "У нас есть, по сути, два категориальных признака: один принимает 7 значений, а другой 2. Оценим степень корреляции между ними с помощью критерия хи-квадрат (или просто хи-хи).\n",
    "\n",
    "**Нулевая гипотеза Н0**: признаки 'EDUCATION' и 'default' независимы\n",
    "\n",
    "**Альтернативная гипотеза Н1**: зависимость между указанными признаками есть"
   ]
  },
  {
   "cell_type": "code",
   "execution_count": 49,
   "metadata": {
    "collapsed": false
   },
   "outputs": [
    {
     "data": {
      "text/html": [
       "<div>\n",
       "<table border=\"1\" class=\"dataframe\">\n",
       "  <thead>\n",
       "    <tr style=\"text-align: right;\">\n",
       "      <th></th>\n",
       "      <th>Good Credit</th>\n",
       "      <th>Bad Credit</th>\n",
       "    </tr>\n",
       "  </thead>\n",
       "  <tbody>\n",
       "    <tr>\n",
       "      <th>Doctor</th>\n",
       "      <td>14.0</td>\n",
       "      <td>0.0</td>\n",
       "    </tr>\n",
       "    <tr>\n",
       "      <th>Magistr</th>\n",
       "      <td>8549.0</td>\n",
       "      <td>2036.0</td>\n",
       "    </tr>\n",
       "    <tr>\n",
       "      <th>Bakalavr</th>\n",
       "      <td>10700.0</td>\n",
       "      <td>3330.0</td>\n",
       "    </tr>\n",
       "    <tr>\n",
       "      <th>Srednee</th>\n",
       "      <td>3680.0</td>\n",
       "      <td>1237.0</td>\n",
       "    </tr>\n",
       "    <tr>\n",
       "      <th>Nachalnoe</th>\n",
       "      <td>116.0</td>\n",
       "      <td>7.0</td>\n",
       "    </tr>\n",
       "    <tr>\n",
       "      <th>Other</th>\n",
       "      <td>262.0</td>\n",
       "      <td>18.0</td>\n",
       "    </tr>\n",
       "    <tr>\n",
       "      <th>No data</th>\n",
       "      <td>43.0</td>\n",
       "      <td>8.0</td>\n",
       "    </tr>\n",
       "  </tbody>\n",
       "</table>\n",
       "</div>"
      ],
      "text/plain": [
       "           Good Credit  Bad Credit\n",
       "Doctor            14.0         0.0\n",
       "Magistr         8549.0      2036.0\n",
       "Bakalavr       10700.0      3330.0\n",
       "Srednee         3680.0      1237.0\n",
       "Nachalnoe        116.0         7.0\n",
       "Other            262.0        18.0\n",
       "No data           43.0         8.0"
      ]
     },
     "execution_count": 49,
     "metadata": {},
     "output_type": "execute_result"
    }
   ],
   "source": [
    "#\n",
    "# Построим таблицу сопряженности \n",
    "#\n",
    "educs = {0:'Doctor', 1:'Magistr', 2:'Bakalavr', 3:'Srednee', 4:'Nachalnoe', 5:'Other', 6:'No data'}\n",
    "\n",
    "tbl = pd.DataFrame(np.zeros((7, 2)))\n",
    "\n",
    "for key in educs:\n",
    "    # Заполняем строку таблицы:\n",
    "    tbl.iloc[key, 0] = float(data[(data['default'] == 0) & (data['EDUCATION'] == key)].shape[0])\n",
    "    tbl.iloc[key, 1] = float(data[(data['default'] == 1) & (data['EDUCATION'] == key)].shape[0])\n",
    "    \n",
    "tbl.index = educs.values()\n",
    "tbl.columns = ['Good Credit', 'Bad Credit']\n",
    "tbl"
   ]
  },
  {
   "cell_type": "code",
   "execution_count": 50,
   "metadata": {
    "collapsed": false
   },
   "outputs": [
    {
     "name": "stdout",
     "output_type": "stream",
     "text": [
      "p-value: 1.233263e-32\n"
     ]
    }
   ],
   "source": [
    "#\n",
    "# Применяем критерий хи-хи\n",
    "#\n",
    "(chi, p, df, expected) = chi2_contingency(tbl)\n",
    "print \"p-value: %e\" % p"
   ]
  },
  {
   "cell_type": "markdown",
   "metadata": {},
   "source": [
    "Значение p-value очень маленькое. Поэтому на уровне значимости 0.05 мы можем отвергнуть гипотезу о том, что эти два признака независимы.\n",
    "\n",
    "Между признаками есть связь.\n",
    "\n",
    "Разберемся со способом наглядного представления разницы в ожидаемых и наблюдаемых значениях количества человек вернувших и не вернувших долг. Нарисуем таблицу сопряженности \"образование\" на \"возврат долга\", где значением ячейки была бы разность между наблюдаемым и ожидаемым количеством человек. Ожидаемое количество человек мы уже получили в результате вызова chi2_contingency()"
   ]
  },
  {
   "cell_type": "code",
   "execution_count": 51,
   "metadata": {
    "collapsed": false
   },
   "outputs": [
    {
     "data": {
      "text/html": [
       "<div>\n",
       "<table border=\"1\" class=\"dataframe\">\n",
       "  <thead>\n",
       "    <tr style=\"text-align: right;\">\n",
       "      <th></th>\n",
       "      <th>Good Credit</th>\n",
       "      <th>Bad Credit</th>\n",
       "    </tr>\n",
       "  </thead>\n",
       "  <tbody>\n",
       "    <tr>\n",
       "      <th>Doctor</th>\n",
       "      <td>3.0968</td>\n",
       "      <td>-3.0968</td>\n",
       "    </tr>\n",
       "    <tr>\n",
       "      <th>Magistr</th>\n",
       "      <td>305.4020</td>\n",
       "      <td>-305.4020</td>\n",
       "    </tr>\n",
       "    <tr>\n",
       "      <th>Bakalavr</th>\n",
       "      <td>-226.5640</td>\n",
       "      <td>226.5640</td>\n",
       "    </tr>\n",
       "    <tr>\n",
       "      <th>Srednee</th>\n",
       "      <td>-149.3596</td>\n",
       "      <td>149.3596</td>\n",
       "    </tr>\n",
       "    <tr>\n",
       "      <th>Nachalnoe</th>\n",
       "      <td>20.2076</td>\n",
       "      <td>-20.2076</td>\n",
       "    </tr>\n",
       "    <tr>\n",
       "      <th>Other</th>\n",
       "      <td>43.9360</td>\n",
       "      <td>-43.9360</td>\n",
       "    </tr>\n",
       "    <tr>\n",
       "      <th>No data</th>\n",
       "      <td>3.2812</td>\n",
       "      <td>-3.2812</td>\n",
       "    </tr>\n",
       "  </tbody>\n",
       "</table>\n",
       "</div>"
      ],
      "text/plain": [
       "           Good Credit  Bad Credit\n",
       "Doctor          3.0968     -3.0968\n",
       "Magistr       305.4020   -305.4020\n",
       "Bakalavr     -226.5640    226.5640\n",
       "Srednee      -149.3596    149.3596\n",
       "Nachalnoe      20.2076    -20.2076\n",
       "Other          43.9360    -43.9360\n",
       "No data         3.2812     -3.2812"
      ]
     },
     "execution_count": 51,
     "metadata": {},
     "output_type": "execute_result"
    }
   ],
   "source": [
    "tbl2 = tbl - expected\n",
    "tbl2  "
   ]
  },
  {
   "cell_type": "markdown",
   "metadata": {},
   "source": [
    "Как же теперь модифицировать таблицу так, чтобы привести значения ячеек к одному масштабу не потеряв в интерпретируемости? \n",
    "Давайте по-другому считать ячейки. В каждую ячейку будем записывать отношение наблюдаемого числа человек к ожидаемому и умножать на 100, чтобы получить проценты.\n",
    "\n",
    "Получим процент от ожидаемого числа возвращенцев/невозвращенцев."
   ]
  },
  {
   "cell_type": "code",
   "execution_count": 52,
   "metadata": {
    "collapsed": false
   },
   "outputs": [
    {
     "data": {
      "text/html": [
       "<div>\n",
       "<table border=\"1\" class=\"dataframe\">\n",
       "  <thead>\n",
       "    <tr style=\"text-align: right;\">\n",
       "      <th></th>\n",
       "      <th>Good Credit</th>\n",
       "      <th>Bad Credit</th>\n",
       "    </tr>\n",
       "  </thead>\n",
       "  <tbody>\n",
       "    <tr>\n",
       "      <th>Doctor</th>\n",
       "      <td>128.402671</td>\n",
       "      <td>0.000000</td>\n",
       "    </tr>\n",
       "    <tr>\n",
       "      <th>Magistr</th>\n",
       "      <td>103.704717</td>\n",
       "      <td>86.956447</td>\n",
       "    </tr>\n",
       "    <tr>\n",
       "      <th>Bakalavr</th>\n",
       "      <td>97.926484</td>\n",
       "      <td>107.300424</td>\n",
       "    </tr>\n",
       "    <tr>\n",
       "      <th>Srednee</th>\n",
       "      <td>96.099619</td>\n",
       "      <td>113.732443</td>\n",
       "    </tr>\n",
       "    <tr>\n",
       "      <th>Nachalnoe</th>\n",
       "      <td>121.095202</td>\n",
       "      <td>25.728105</td>\n",
       "    </tr>\n",
       "    <tr>\n",
       "      <th>Other</th>\n",
       "      <td>120.148213</td>\n",
       "      <td>29.062258</td>\n",
       "    </tr>\n",
       "    <tr>\n",
       "      <th>No data</th>\n",
       "      <td>108.261075</td>\n",
       "      <td>70.914442</td>\n",
       "    </tr>\n",
       "  </tbody>\n",
       "</table>\n",
       "</div>"
      ],
      "text/plain": [
       "           Good Credit  Bad Credit\n",
       "Doctor      128.402671    0.000000\n",
       "Magistr     103.704717   86.956447\n",
       "Bakalavr     97.926484  107.300424\n",
       "Srednee      96.099619  113.732443\n",
       "Nachalnoe   121.095202   25.728105\n",
       "Other       120.148213   29.062258\n",
       "No data     108.261075   70.914442"
      ]
     },
     "execution_count": 52,
     "metadata": {},
     "output_type": "execute_result"
    }
   ],
   "source": [
    "tbl3 = tbl / expected * 100\n",
    "tbl3"
   ]
  },
  {
   "cell_type": "markdown",
   "metadata": {},
   "source": [
    "Сразу любопытно: 0% от ожидаемого числа Докторов не вернули кредит. Это означает, что все Доктора кредит возвращают. Какие молодцы!\n",
    "\n",
    "Ну и, отвечая на два последних вопроса, получается, что:\n",
    "\n",
    "* наличие образования \"Доктор\" является наилучшим индикатором того, что человек отдаст кредит\n",
    "* наличие Среднего образования является наилучшим индиктором того, что человек не отдаст кредит"
   ]
  },
  {
   "cell_type": "markdown",
   "metadata": {},
   "source": [
    "### 4. Семейное положение"
   ]
  },
  {
   "cell_type": "code",
   "execution_count": 53,
   "metadata": {
    "collapsed": false
   },
   "outputs": [
    {
     "data": {
      "text/plain": [
       "2    15964\n",
       "1    13659\n",
       "3      323\n",
       "0       54\n",
       "Name: MARRIAGE, dtype: int64"
      ]
     },
     "execution_count": 53,
     "metadata": {},
     "output_type": "execute_result"
    }
   ],
   "source": [
    "data['MARRIAGE'].value_counts()"
   ]
  },
  {
   "cell_type": "code",
   "execution_count": 54,
   "metadata": {
    "collapsed": false
   },
   "outputs": [
    {
     "data": {
      "image/png": "[encoded data removed]",
      "text/plain": [
       "<matplotlib.figure.Figure at 0xee1fef0>"
      ]
     },
     "metadata": {},
     "output_type": "display_data"
    }
   ],
   "source": [
    "plt.figure(figsize(16, 10))\n",
    "\n",
    "sns.countplot(data=data, x='default', hue='MARRIAGE')\n",
    "plt.xlabel('Education distribution of good (0) and bad (1) credits', fontsize=14)\n",
    "\n",
    "# Семейное положение (0 = отказываюсь отвечать; 1 = замужем/женат; 2 = холост; 3 = нет данных)\n",
    "plt.legend(labels=['Refused to respond', 'Married', 'Single', 'No data'])\n",
    "\n",
    "pylab.show()"
   ]
  },
  {
   "cell_type": "markdown",
   "metadata": {},
   "source": [
    "У нас опять есть два категориальных признака: один принимает 4 значения, а другой 2. Оценим, есть ли связь между ними, с помощью критерия хи-хи.\n",
    "\n",
    "**Нулевая гипотеза Н0**: признаки 'MARRIAGE' и 'default' независимы\n",
    "\n",
    "**Альтернативная гипотеза Н1**: зависимость между указанными признаками есть\n",
    "\n",
    "Построим таблицу сопряженности двух категориальных признаков - MARRIAGE и default. К ней применим критерий, получим хи-статистику и на ее основании посчитаем коэффициент корреляции V Кармера."
   ]
  },
  {
   "cell_type": "code",
   "execution_count": 55,
   "metadata": {
    "collapsed": false
   },
   "outputs": [
    {
     "data": {
      "text/html": [
       "<div>\n",
       "<table border=\"1\" class=\"dataframe\">\n",
       "  <thead>\n",
       "    <tr style=\"text-align: right;\">\n",
       "      <th></th>\n",
       "      <th>Good Credit</th>\n",
       "      <th>Bad Credit</th>\n",
       "    </tr>\n",
       "  </thead>\n",
       "  <tbody>\n",
       "    <tr>\n",
       "      <th>Refused to respond</th>\n",
       "      <td>49.0</td>\n",
       "      <td>5.0</td>\n",
       "    </tr>\n",
       "    <tr>\n",
       "      <th>Married</th>\n",
       "      <td>10453.0</td>\n",
       "      <td>3206.0</td>\n",
       "    </tr>\n",
       "    <tr>\n",
       "      <th>Single</th>\n",
       "      <td>12623.0</td>\n",
       "      <td>3341.0</td>\n",
       "    </tr>\n",
       "    <tr>\n",
       "      <th>No data</th>\n",
       "      <td>239.0</td>\n",
       "      <td>84.0</td>\n",
       "    </tr>\n",
       "  </tbody>\n",
       "</table>\n",
       "</div>"
      ],
      "text/plain": [
       "                    Good Credit  Bad Credit\n",
       "Refused to respond         49.0         5.0\n",
       "Married                 10453.0      3206.0\n",
       "Single                  12623.0      3341.0\n",
       "No data                   239.0        84.0"
      ]
     },
     "execution_count": 55,
     "metadata": {},
     "output_type": "execute_result"
    }
   ],
   "source": [
    "statuses = {0:\"Refused to respond\", 1:\"Married\", 2:\"Single\", 3:\"No data\"}\n",
    "\n",
    "tbl4 = pd.DataFrame(np.zeros((4, 2)))\n",
    "\n",
    "for key in statuses:\n",
    "    # Заполняем строку таблицы:\n",
    "    tbl4.iloc[key, 0] = float(data[(data['default'] == 0) & (data['MARRIAGE'] == key)].shape[0])\n",
    "    tbl4.iloc[key, 1] = float(data[(data['default'] == 1) & (data['MARRIAGE'] == key)].shape[0])\n",
    "    \n",
    "tbl4.index = statuses.values()\n",
    "tbl4.columns = ['Good Credit', 'Bad Credit']\n",
    "tbl4"
   ]
  },
  {
   "cell_type": "code",
   "execution_count": 56,
   "metadata": {
    "collapsed": false
   },
   "outputs": [
    {
     "name": "stdout",
     "output_type": "stream",
     "text": [
      "p-value: 8.825862e-08\n"
     ]
    }
   ],
   "source": [
    "(chi, p, df, expected) = chi2_contingency(tbl4)\n",
    "\n",
    "print \"p-value: %e\" % p"
   ]
  },
  {
   "cell_type": "markdown",
   "metadata": {},
   "source": [
    "Снова значение p-value очень маленькое. Поэтому на уровне значимости 0.05 мы можем отвергнуть гипотезу о том, что эти два признака независимы.\n",
    "\n",
    "Между признаками есть связь."
   ]
  },
  {
   "cell_type": "code",
   "execution_count": 57,
   "metadata": {
    "collapsed": false
   },
   "outputs": [
    {
     "name": "stdout",
     "output_type": "stream",
     "text": [
      "V Cramer correlation coefficient: 0.0344782036628\n"
     ]
    }
   ],
   "source": [
    "#\n",
    "# Посчитаем коэффициент V Крамера:\n",
    "#\n",
    "cramer = np.sqrt(chi / (tbl4.sum().sum() * (min(tbl4.shape[0], tbl4.shape[1]) - 1)))\n",
    "\n",
    "print \"V Cramer correlation coefficient:\", cramer"
   ]
  },
  {
   "cell_type": "markdown",
   "metadata": {},
   "source": [
    "Вот тут, признаться, я теряюсь.\n",
    "\n",
    "С одной стороны, мы получили p-value сильно маленькое (8й значащий знак) и можем утверждать, что связь между этими двумя признаками есть.\n",
    "\n",
    "С другой стороны, коэффициент V Крамера получился очень маленький, 0.034, и очень хочется сказать, что связь между этими ~~почти отсутствует~~ очень-очень мала...\n",
    "\n",
    "Дорогие сокурники! Если кто-то из Вас доберется до этого места и заметит косяк в моих рассуждениях, то напишите пожалуйста в комментарии к работе. Большое Вам спасибо!!!"
   ]
  },
  {
   "cell_type": "markdown",
   "metadata": {},
   "source": [
    "### 5. Возраст"
   ]
  },
  {
   "cell_type": "code",
   "execution_count": 58,
   "metadata": {
    "collapsed": false
   },
   "outputs": [
    {
     "data": {
      "image/png": "[encoded data removed]",
      "text/plain": [
       "<matplotlib.figure.Figure at 0xcaca3c8>"
      ]
     },
     "metadata": {},
     "output_type": "display_data"
    }
   ],
   "source": [
    "plt.figure(figsize(16, 20))\n",
    "\n",
    "plt.subplot(421)\n",
    "data[data['default'] == 0]['AGE'].plot.hist(bins=50)\n",
    "plt.xlabel('Age for good credits', fontsize=14)\n",
    "\n",
    "plt.subplot(422)\n",
    "np.log(data[data['default'] == 0]['AGE']).plot.hist(bins=50)\n",
    "plt.xlabel('log(Age for good credits)', fontsize=14)\n",
    "\n",
    "plt.subplot(423)\n",
    "sc.stats.probplot(data[data['default'] == 0]['AGE'], dist=\"norm\", plot=pylab)\n",
    "plt.xlabel('Q-Q Plot for Age for good credits', fontsize=14)\n",
    "\n",
    "plt.subplot(425)\n",
    "data[data['default'] == 1]['AGE'].plot.hist(bins=50)\n",
    "plt.xlabel('Age for BAD credits', fontsize=14)\n",
    "\n",
    "plt.subplot(426)\n",
    "np.log(data[data['default'] == 1]['AGE']).plot.hist(bins=50)\n",
    "plt.xlabel('log(Age for BAD credits)', fontsize=14)\n",
    "\n",
    "plt.subplot(427)\n",
    "sc.stats.probplot(data[data['default'] == 1]['AGE'], dist=\"norm\", plot=pylab)\n",
    "plt.xlabel('Q-Q Plot for Age for BAD credits', fontsize=14)\n",
    "\n",
    "pylab.show()"
   ]
  },
  {
   "cell_type": "markdown",
   "metadata": {},
   "source": [
    "Распределение возрастов в каждой выборке не похоже на нормальное. Логарифм возрастов не сильно помогает.\n",
    "Ку-ку-плот подтверждает, что выборки не из нормальных распределений.\n",
    "Интересно, кстати: тут похоже порог в районе 21 года: возраст, с которого начинают выдавать кредиты.\n",
    "\n",
    "Так или иначе, сделать предположение о нормальности исходных выборок не можем.\n",
    "Таким образом, задачу будем решать непараметрическими критериями.\n",
    "\n",
    "Опять отметим, что выборки у нас, по ходу, независимые. Это понадобится.\n",
    "\n",
    "Нарисуем \"ящики с усами\" для каждой из выборок."
   ]
  },
  {
   "cell_type": "code",
   "execution_count": 59,
   "metadata": {
    "collapsed": false
   },
   "outputs": [
    {
     "data": {
      "image/png": "[encoded data removed]",
      "text/plain": [
       "<matplotlib.figure.Figure at 0xd28b4a8>"
      ]
     },
     "metadata": {},
     "output_type": "display_data"
    }
   ],
   "source": [
    "plt.figure(figsize(16, 5))\n",
    "\n",
    "sns.boxplot(data=data[['default', 'AGE']], x='AGE', y='default', orient='h')\n",
    "\n",
    "pylab.show()"
   ]
  },
  {
   "cell_type": "markdown",
   "metadata": {},
   "source": [
    "А вот тут кажется, что медианы должны быть очень похожи! Хоть какое-то отличие от первого вопроса ;)\n",
    "\n",
    "**Нулевая гипотеза Н0**: медиана первой выборки совпадает с медианой второй выборки\n",
    "\n",
    "**Альтернативная гипотеза Н1**: общая альтернатива, т.е. медианы двух выборок не совпадают\n",
    "\n",
    "Сделаем оценки медиан, вкл. интервальные, с помощью бутстрепа."
   ]
  },
  {
   "cell_type": "code",
   "execution_count": 60,
   "metadata": {
    "collapsed": false
   },
   "outputs": [
    {
     "name": "stdout",
     "output_type": "stream",
     "text": [
      "Median of Age for those who didn't pay: 34.0\n",
      "Median of Age for those who paid: 34.0\n"
     ]
    }
   ],
   "source": [
    "#\n",
    "# Подготовим данные и посмотрим на медианы\n",
    "#\n",
    "not_paid = data[data['default'] == 1]['AGE'].values\n",
    "paid = data[data['default'] == 0]['AGE'].values\n",
    "\n",
    "print \"Median of Age for those who didn't pay:\", np.median(not_paid)\n",
    "print \"Median of Age for those who paid:\", np.median(paid)"
   ]
  },
  {
   "cell_type": "code",
   "execution_count": 61,
   "metadata": {
    "collapsed": false
   },
   "outputs": [
    {
     "name": "stdout",
     "output_type": "stream",
     "text": [
      "95% confidence interval for the age median for those who didn't pay: [ 34.  35.]\n",
      "95% confidence interval for the age median for those who paid: [ 34.  34.]\n"
     ]
    }
   ],
   "source": [
    "#\n",
    "# Интервальные оценки каждой медианы\n",
    "#\n",
    "np.random.seed(0)\n",
    "\n",
    "not_paid_median_scores = map(np.median, get_bootstrap_samples(not_paid, 1000))\n",
    "paid_median_scores = map(np.median, get_bootstrap_samples(paid, 1000))\n",
    "\n",
    "print \"95% confidence interval for the age median for those who didn't pay:\",  \\\n",
    "                stat_intervals(not_paid_median_scores, 0.05)\n",
    "print \"95% confidence interval for the age median for those who paid:\",  \\\n",
    "                stat_intervals(paid_median_scores, 0.05)"
   ]
  },
  {
   "cell_type": "code",
   "execution_count": 62,
   "metadata": {
    "collapsed": false
   },
   "outputs": [
    {
     "name": "stdout",
     "output_type": "stream",
     "text": [
      "difference between medians: 0.0\n"
     ]
    }
   ],
   "source": [
    "#\n",
    "# Точечная оценка разности медиан\n",
    "#\n",
    "print \"difference between medians:\", np.median(paid) - np.median(not_paid)"
   ]
  },
  {
   "cell_type": "code",
   "execution_count": 63,
   "metadata": {
    "collapsed": false
   },
   "outputs": [
    {
     "name": "stdout",
     "output_type": "stream",
     "text": [
      "95% confidence interval for the difference between medians [-1.  0.]\n"
     ]
    }
   ],
   "source": [
    "#\n",
    "# Интервальная оценка разности медиан\n",
    "#\n",
    "delta_median_scores = map(lambda x: x[1] - x[0], zip(not_paid_median_scores, paid_median_scores))\n",
    "print \"95% confidence interval for the difference between medians\",  stat_intervals(delta_median_scores, 0.05)"
   ]
  },
  {
   "cell_type": "markdown",
   "metadata": {},
   "source": [
    "Видим, что интервальные оценки медиан пересекаются. Интервальная оценка разности медиан содержит 0. Отвергнуть нулевую гипотезу не можем.\n",
    "\n",
    "Медианы выборок совпадают.\n",
    "\n",
    "Далее проверим гипотезу о равенстве распределений с помощью одного из подходящих непараметрических критериев проверки равенства средних. \n",
    "\n",
    "**Нулевая гипотеза Н0**: распределения возрастов людей, выплативших кредит, и неплательщиков равны: $F_{X_1}(x) = F_{X_2}(x)$\n",
    "\n",
    "**Альтернативная гипотеза Н1**: распределения возрастов различаются: $F_{X_1}(x) = F_{X_2}(x + \\Delta), \\Delta\\neq 0$\n",
    "\n",
    "Будем проверять с помощью перестановочного критерия."
   ]
  },
  {
   "cell_type": "code",
   "execution_count": 64,
   "metadata": {
    "collapsed": false
   },
   "outputs": [
    {
     "name": "stdout",
     "output_type": "stream",
     "text": [
      "p-value: 0.017400\n"
     ]
    }
   ],
   "source": [
    "print \"p-value: %f\" % permutation_test(paid, not_paid, max_permutations = 10000)"
   ]
  },
  {
   "cell_type": "markdown",
   "metadata": {},
   "source": [
    "Получили достигаемый уровень значимости меньше 0.05. Можем уверенно отвергнуть нулевую гипотезу на уровне значимости 0.05.\n",
    "\n",
    "Распределения возрастов различаются.\n",
    "\n",
    "Касательно размера эффекта и практической значимости полученных результатов. Размер эффекта по выборкам равен нулю. ИМХО, практическая значимость снова невелика: ну и что из того, что медианное значение возрастов для проблемных кредитов совпадает с медианой для хороших кредитов? Также, опять неясно, какой практический вывод можно сделать из того, что два распределения различаются."
   ]
  },
  {
   "cell_type": "code",
   "execution_count": null,
   "metadata": {
    "collapsed": false
   },
   "outputs": [],
   "source": []
  }
 ],
 "metadata": {
  "anaconda-cloud": {},
  "kernelspec": {
   "display_name": "Python [default]",
   "language": "python",
   "name": "python2"
  },
  "language_info": {
   "codemirror_mode": {
    "name": "ipython",
    "version": 2
   },
   "file_extension": ".py",
   "mimetype": "text/x-python",
   "name": "python",
   "nbconvert_exporter": "python",
   "pygments_lexer": "ipython2",
   "version": "2.7.12"
  }
 },
 "nbformat": 4,
 "nbformat_minor": 0
}
