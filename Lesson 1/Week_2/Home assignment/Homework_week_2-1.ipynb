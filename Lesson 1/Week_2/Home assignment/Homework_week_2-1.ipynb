{
 "cells": [
  {
   "cell_type": "code",
   "execution_count": 153,
   "metadata": {},
   "outputs": [],
   "source": [
    "file = open('sentences.txt','r')\n",
    "try:\n",
    "    text = file.read()\n",
    "finally:\n",
    "    file.close()"
   ]
  },
  {
   "cell_type": "code",
   "execution_count": 154,
   "metadata": {
    "collapsed": true
   },
   "outputs": [],
   "source": [
    "import re\n",
    "import string\n",
    "import numpy as np"
   ]
  },
  {
   "cell_type": "code",
   "execution_count": 155,
   "metadata": {},
   "outputs": [],
   "source": [
    "def build_matrix(text):\n",
    "    id = 0\n",
    "    freq_dict_total = {}\n",
    "    dict_word_id = {}\n",
    "\n",
    "    text = text.lower()\n",
    "    sentences = re.split('\\n',text)\n",
    "    sentences.remove('')\n",
    "    \n",
    "    words = re.split('[^A-Za-z]',text)\n",
    "\n",
    "    for word in words:\n",
    "        word = word.lower()\n",
    "        if word in freq_dict_total:\n",
    "            if word<>'':\n",
    "                value = freq_dict_total[word]\n",
    "                freq_dict_total[word] = value +1\n",
    "        elif word<>'':\n",
    "            freq_dict_total[word] = 1\n",
    "            dict_word_id[word] = id\n",
    "            id +=1\n",
    "    \n",
    "    freq_matrix = np.zeros(((len(sentences)),(len(freq_dict_total))))\n",
    "    \n",
    "    for i in range(len(sentences)):\n",
    "        words = re.split('[^A-Za-z]',sentences[i])\n",
    "        for word in words:\n",
    "            if word in freq_dict_total:\n",
    "\n",
    "                freq_matrix[i][dict_word_id.get(word)] += 1\n",
    "            else:\n",
    "                freq_matrix[i][dict_word_id.get(word)] += 0\n",
    "    \n",
    "    return freq_matrix"
   ]
  },
  {
   "cell_type": "code",
   "execution_count": 158,
   "metadata": {
    "scrolled": true
   },
   "outputs": [],
   "source": [
    "import scipy\n",
    "from scipy import spatial"
   ]
  },
  {
   "cell_type": "code",
   "execution_count": 159,
   "metadata": {},
   "outputs": [],
   "source": [
    "def cosine_dist(matrix):\n",
    "    dist = np.zeros((1,22))\n",
    "    for n in range(0,22):\n",
    "        dist[0][n]= scipy.spatial.distance.cosine(matrix[0,:],matrix[n,:])\n",
    "        print(dist[0][n])\n",
    "    return dist"
   ]
  },
  {
   "cell_type": "code",
   "execution_count": 152,
   "metadata": {},
   "outputs": [
    {
     "name": "stdout",
     "output_type": "stream",
     "text": [
      "0.0\n",
      "0.952754440874\n",
      "0.864473814564\n",
      "0.895171516328\n",
      "0.77708871497\n",
      "0.940238569533\n",
      "0.732738758088\n",
      "0.925875068334\n",
      "0.884272487528\n",
      "0.905508881748\n",
      "0.832816536227\n",
      "0.880477139067\n",
      "0.839643254853\n",
      "0.87035925529\n",
      "0.87401184233\n",
      "0.944272178742\n",
      "0.840636185422\n",
      "0.956644501524\n",
      "0.944272178742\n",
      "0.888544357485\n",
      "0.842757274492\n",
      "0.825036446944\n"
     ]
    },
    {
     "data": {
      "text/plain": [
       "array([[ 0.        ,  0.95275444,  0.86447381,  0.89517152,  0.77708871,\n",
       "         0.94023857,  0.73273876,  0.92587507,  0.88427249,  0.90550888,\n",
       "         0.83281654,  0.88047714,  0.83964325,  0.87035926,  0.87401184,\n",
       "         0.94427218,  0.84063619,  0.9566445 ,  0.94427218,  0.88854436,\n",
       "         0.84275727,  0.82503645]])"
      ]
     },
     "execution_count": 152,
     "metadata": {},
     "output_type": "execute_result"
    }
   ],
   "source": [
    "cosine_dist(build_matrix(text))"
   ]
  },
  {
   "cell_type": "code",
   "execution_count": null,
   "metadata": {
    "collapsed": true
   },
   "outputs": [],
   "source": []
  },
  {
   "cell_type": "code",
   "execution_count": null,
   "metadata": {
    "collapsed": true
   },
   "outputs": [],
   "source": []
  },
  {
   "cell_type": "code",
   "execution_count": null,
   "metadata": {
    "collapsed": true
   },
   "outputs": [],
   "source": []
  }
 ],
 "metadata": {
  "anaconda-cloud": {},
  "kernelspec": {
   "display_name": "Python 3",
   "language": "python",
   "name": "python3"
  },
  "language_info": {
   "codemirror_mode": {
    "name": "ipython",
    "version": 3
   },
   "file_extension": ".py",
   "mimetype": "text/x-python",
   "name": "python",
   "nbconvert_exporter": "python",
   "pygments_lexer": "ipython3",
   "version": "3.5.2"
  }
 },
 "nbformat": 4,
 "nbformat_minor": 1
}
