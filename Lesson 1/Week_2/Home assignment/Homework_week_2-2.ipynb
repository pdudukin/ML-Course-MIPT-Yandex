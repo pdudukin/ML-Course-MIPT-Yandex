{
 "cells": [
  {
   "cell_type": "code",
   "execution_count": 23,
   "metadata": {
    "collapsed": false
   },
   "outputs": [],
   "source": [
    "from scipy import linalg\n",
    "import scipy\n",
    "import numpy as np\n",
    "\n",
    "def f(x):\n",
    "    return np.sin(x/5.)*np.exp(x/10.)+5*np.exp(-x/2.)"
   ]
  },
  {
   "cell_type": "code",
   "execution_count": 24,
   "metadata": {
    "collapsed": false
   },
   "outputs": [
    {
     "data": {
      "text/plain": [
       "(3.2522168652714192, 0.63522141957866562)"
      ]
     },
     "execution_count": 24,
     "metadata": {},
     "output_type": "execute_result"
    }
   ],
   "source": [
    "f(1), f(15)"
   ]
  },
  {
   "cell_type": "code",
   "execution_count": 29,
   "metadata": {
    "collapsed": false
   },
   "outputs": [],
   "source": [
    "# 1 и 15\n",
    "# 1, 8 и 15\n",
    "# 1, 4, 10 и 15 \n",
    "\n",
    "x_lin = [1, 15]\n",
    "A_lin = np.array([[x_lin[0]**0, x_lin[0]**1],\n",
    "                  [x_lin[1]**0, x_lin[1]**1]])\n",
    "b_lin = np.array([f(x_lin[0]), f(x_lin[1])])\n",
    "\n",
    "x_sq = [1, 8, 15]\n",
    "A_sq = np.array([[x_sq[0]**0, x_sq[0]**1, x_sq[0]**2],\n",
    "                 [x_sq[1]**0, x_sq[1]**1, x_sq[1]**2], \n",
    "                 [x_sq[2]**0, x_sq[2]**1, x_sq[2]**2]])\n",
    "b_sq = np.array([f(x_sq[0]), f(x_sq[1]), f(x_sq[2])])\n",
    "\n",
    "x_cube = [1, 4, 10, 15]\n",
    "A_cube = np.array([[x_cube[0]**0, x_cube[0]**1, x_cube[0]**2, x_cube[0]**3],\n",
    "                   [x_cube[1]**0, x_cube[1]**1, x_cube[1]**2, x_cube[1]**3], \n",
    "                   [x_cube[2]**0, x_cube[2]**1, x_cube[2]**2, x_cube[2]**3],\n",
    "                   [x_cube[3]**0, x_cube[3]**1, x_cube[3]**2, x_cube[3]**3]])\n",
    "b_cube = np.array([f(x_cube[0]), f(x_cube[1]), f(x_cube[2]), f(x_cube[3])])\n"
   ]
  },
  {
   "cell_type": "code",
   "execution_count": 30,
   "metadata": {
    "collapsed": false
   },
   "outputs": [
    {
     "name": "stdout",
     "output_type": "stream",
     "text": [
      "[ 3.43914511 -0.18692825]\n",
      "[ 3.32512949 -0.06531159 -0.00760104]\n",
      "[ 4.36264154 -1.29552587  0.19333685 -0.00823565]\n"
     ]
    }
   ],
   "source": [
    "w_lin = scipy.linalg.solve(A_lin,b_lin)\n",
    "print(w_lin)\n",
    "\n",
    "w_sq = scipy.linalg.solve(A_sq,b_sq)\n",
    "print(w_sq)\n",
    "\n",
    "w_cube = scipy.linalg.solve(A_cube,b_cube)\n",
    "print(w_cube)\n"
   ]
  },
  {
   "cell_type": "code",
   "execution_count": 31,
   "metadata": {
    "collapsed": true
   },
   "outputs": [],
   "source": [
    "from matplotlib import pylab as plt"
   ]
  },
  {
   "cell_type": "code",
   "execution_count": 44,
   "metadata": {
    "collapsed": false
   },
   "outputs": [],
   "source": [
    "x = np.arange(1,15,0.1)\n",
    "plt.plot(x,f(x), x_lin, [w_lin[0]+w_lin[1]*x_lin[0], w_lin[0]+w_lin[1]*x_lin[1]])\n",
    "plt.show()"
   ]
  },
  {
   "cell_type": "code",
   "execution_count": 45,
   "metadata": {
    "collapsed": false
   },
   "outputs": [],
   "source": [
    "plt.plot(x,f(x), \n",
    "         x_sq, [w_sq[0]+w_sq[1]*x_sq[0]+w_sq[2]*x_sq[0]**2,\n",
    "                w_sq[0]+w_sq[1]*x_sq[1]+w_sq[2]*x_sq[1]**2,\n",
    "                w_sq[0]+w_sq[1]*x_sq[2]+w_sq[2]*x_sq[2]**2])\n",
    "plt.show()"
   ]
  },
  {
   "cell_type": "code",
   "execution_count": 47,
   "metadata": {
    "collapsed": false
   },
   "outputs": [],
   "source": [
    "plt.plot(x,f(x), \n",
    "         x_cube, [w_cube[0]+w_cube[1]*x_cube[0]+w_cube[2]*x_cube[0]**2+w_cube[3]*x_cube[0]**3,\n",
    "                  w_cube[0]+w_cube[1]*x_cube[1]+w_cube[2]*x_cube[1]**2+w_cube[3]*x_cube[1]**3,\n",
    "                  w_cube[0]+w_cube[1]*x_cube[2]+w_cube[2]*x_cube[2]**2+w_cube[3]*x_cube[2]**3,\n",
    "                  w_cube[0]+w_cube[1]*x_cube[3]+w_cube[2]*x_cube[3]**2+w_cube[3]*x_cube[3]**3])\n",
    "plt.show()"
   ]
  },
  {
   "cell_type": "code",
   "execution_count": null,
   "metadata": {
    "collapsed": true
   },
   "outputs": [],
   "source": []
  }
 ],
 "metadata": {
  "anaconda-cloud": {},
  "kernelspec": {
   "display_name": "Python [Root]",
   "language": "python",
   "name": "Python [Root]"
  },
  "language_info": {
   "codemirror_mode": {
    "name": "ipython",
    "version": 2
   },
   "file_extension": ".py",
   "mimetype": "text/x-python",
   "name": "python",
   "nbconvert_exporter": "python",
   "pygments_lexer": "ipython2",
   "version": "2.7.12"
  }
 },
 "nbformat": 4,
 "nbformat_minor": 0
}
